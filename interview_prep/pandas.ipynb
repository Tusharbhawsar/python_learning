{
 "cells": [
  {
   "cell_type": "code",
   "execution_count": null,
   "id": "7817ecbd",
   "metadata": {},
   "outputs": [],
   "source": [
    "#pandas methoda\n",
    "df.head()\n",
    "df.tail()\n",
    "df.merge(df,df1)\n",
    "df.value_counts()\n",
    "df.value_counts().sum()\n",
    "df.describe()\n",
    "df.info()\n",
    "df.sort_values(by=['Age'],ascending=True)\n",
    "df.groupby(\"Department\")[\"Salary\"].min()\n",
    "df.groupby(\"Department\")[\"Salary\"].max()\n",
    "df.groupby(\"Department\")[\"Salary\"].sum()\n",
    "df.groupby(\"Salary\")[\"Name\"].max().sort_index(ascending=False)\n",
    "concat = [df,df1]\n",
    "pd.concat(concat)     "
   ]
  },
  {
   "cell_type": "code",
   "execution_count": null,
   "id": "5dd26165",
   "metadata": {},
   "outputs": [],
   "source": [
    "# # How do make the column names in lowercase of the DataFrame?\n",
    "# # Select only the 'Name' and 'Salary' from Dataframe?\n",
    "# # How do you calculate the average salary of all employees?\n",
    "# # Show the data by 'Department' and calculate the total salary, average, max and min for each department?\n",
    "# # find the employee with the highest salary?\n",
    "# # Who is Working longest in the company and what department does he belong to\n",
    "\n",
    "# data = {\n",
    "#     'Name': ['Alice', 'Bob', 'Charlie', 'David', 'Eva', 'Frank'],\n",
    "#     'Age': [25, 30, 35, 40, 25, 30],\n",
    "#     'City': ['New York', 'Los Angeles', 'Chicago', 'Houston', 'New York', 'Chicago'],\n",
    "#     'Salary': [70000, 80000, 90000, 100000, 75000, 85000],\n",
    "#     'Department': ['HR', 'Finance', 'IT', 'IT', 'Finance', 'HR']\n",
    "# }\n",
    "\n",
    "# data2 = {\n",
    "#     'Name': ['Alice', 'Bob', 'Charlie', 'David', 'Eva', 'Frank'],\n",
    "#     'Joining_Year': [2018, 2019, 2020, 2021, 2018, 2022]\n",
    "# }\n",
    "# how you can find even numbers from a list using the filter() function in Python:\n",
    "\n",
    "# ✅ Example:\n",
    "# python\n",
    "# Copy\n",
    "# Edit\n",
    "# numbers = [1, 2, 3, 4, 5, 6, 7, 8, 9, 10]\n",
    "\n",
    "# # Use filter to get even numbers\n",
    "# even_numbers = list(filter(lambda x: x % 2 == 0, numbers))\n",
    "\n",
    "# print(even_numbers)\n"
   ]
  },
  {
   "cell_type": "code",
   "execution_count": 7,
   "id": "86819483",
   "metadata": {},
   "outputs": [],
   "source": [
    "import pandas as pd"
   ]
  },
  {
   "cell_type": "code",
   "execution_count": null,
   "id": "569fbadc",
   "metadata": {},
   "outputs": [
    {
     "name": "stdout",
     "output_type": "stream",
     "text": [
      "      name     sport\n",
      "0    rohit   crikcet\n",
      "1  ronaldo  football\n",
      "2  jcovich    tennis\n"
     ]
    }
   ],
   "source": [
    "row = [\"crikcet\",\"football\",\"tennis\"]\n",
    "column = [\"rohit\",\"ronaldo\",\"jcovich\"]\n",
    "\n",
    "df = pd.DataFrame({\"name\":column,\n",
    "                    \"sport\":row\n",
    "})\n",
    "print(df)\n"
   ]
  },
  {
   "cell_type": "code",
   "execution_count": 19,
   "id": "36af5fe4",
   "metadata": {},
   "outputs": [],
   "source": [
    "data = {\n",
    "    'Name': ['Alice', 'Bob', 'Charlie', 'David', 'Eva', 'Frank'],\n",
    "    'Age': [25, 30, 35, 40, 25, 30],\n",
    "    'City': ['New York', 'Los Angeles', 'Chicago', 'Houston', 'New York', 'Chicago'],\n",
    "    'Salary': [70000, 80000, 90000, 100000, 75000, 85000],\n",
    "    'Department': ['HR', 'Finance', 'IT', 'IT', 'Finance', 'HR']\n",
    "}\n",
    "\n",
    "data2 = {\n",
    "    'Name': ['Alice', 'Bob', 'Charlie', 'David', 'Eva', 'Frank'],\n",
    "    'Joining_Year': [2018, 2019, 2020, 2021, 2018, 2022]\n",
    "}"
   ]
  },
  {
   "cell_type": "code",
   "execution_count": 8,
   "id": "9f014f8b",
   "metadata": {},
   "outputs": [
    {
     "data": {
      "text/plain": [
       "0      alice\n",
       "1        bob\n",
       "2    charlie\n",
       "3      david\n",
       "4        eva\n",
       "5      frank\n",
       "Name: Name, dtype: object"
      ]
     },
     "execution_count": 8,
     "metadata": {},
     "output_type": "execute_result"
    }
   ],
   "source": [
    "data3 = pd.DataFrame(data)[\"Name\"].str.lower()\n",
    "data3"
   ]
  },
  {
   "cell_type": "code",
   "execution_count": 22,
   "id": "a11f78c4",
   "metadata": {},
   "outputs": [],
   "source": [
    "df = pd.DataFrame(data)"
   ]
  },
  {
   "cell_type": "code",
   "execution_count": 26,
   "id": "6f253d05",
   "metadata": {},
   "outputs": [
    {
     "data": {
      "text/html": [
       "<div>\n",
       "<style scoped>\n",
       "    .dataframe tbody tr th:only-of-type {\n",
       "        vertical-align: middle;\n",
       "    }\n",
       "\n",
       "    .dataframe tbody tr th {\n",
       "        vertical-align: top;\n",
       "    }\n",
       "\n",
       "    .dataframe thead th {\n",
       "        text-align: right;\n",
       "    }\n",
       "</style>\n",
       "<table border=\"1\" class=\"dataframe\">\n",
       "  <thead>\n",
       "    <tr style=\"text-align: right;\">\n",
       "      <th></th>\n",
       "      <th>Name</th>\n",
       "      <th>Salary</th>\n",
       "    </tr>\n",
       "  </thead>\n",
       "  <tbody>\n",
       "    <tr>\n",
       "      <th>0</th>\n",
       "      <td>Alice</td>\n",
       "      <td>70000</td>\n",
       "    </tr>\n",
       "    <tr>\n",
       "      <th>1</th>\n",
       "      <td>Bob</td>\n",
       "      <td>80000</td>\n",
       "    </tr>\n",
       "    <tr>\n",
       "      <th>2</th>\n",
       "      <td>Charlie</td>\n",
       "      <td>90000</td>\n",
       "    </tr>\n",
       "    <tr>\n",
       "      <th>3</th>\n",
       "      <td>David</td>\n",
       "      <td>100000</td>\n",
       "    </tr>\n",
       "    <tr>\n",
       "      <th>4</th>\n",
       "      <td>Eva</td>\n",
       "      <td>75000</td>\n",
       "    </tr>\n",
       "    <tr>\n",
       "      <th>5</th>\n",
       "      <td>Frank</td>\n",
       "      <td>85000</td>\n",
       "    </tr>\n",
       "  </tbody>\n",
       "</table>\n",
       "</div>"
      ],
      "text/plain": [
       "      Name  Salary\n",
       "0    Alice   70000\n",
       "1      Bob   80000\n",
       "2  Charlie   90000\n",
       "3    David  100000\n",
       "4      Eva   75000\n",
       "5    Frank   85000"
      ]
     },
     "execution_count": 26,
     "metadata": {},
     "output_type": "execute_result"
    }
   ],
   "source": [
    "df = pd.DataFrame(data)    #extract the salary and age column first convert the data into pandas dataframe\n",
    "df[[\"Name\",\"Salary\"]]  "
   ]
  },
  {
   "cell_type": "code",
   "execution_count": 30,
   "id": "41fd3b93",
   "metadata": {},
   "outputs": [
    {
     "data": {
      "text/html": [
       "<div>\n",
       "<style scoped>\n",
       "    .dataframe tbody tr th:only-of-type {\n",
       "        vertical-align: middle;\n",
       "    }\n",
       "\n",
       "    .dataframe tbody tr th {\n",
       "        vertical-align: top;\n",
       "    }\n",
       "\n",
       "    .dataframe thead th {\n",
       "        text-align: right;\n",
       "    }\n",
       "</style>\n",
       "<table border=\"1\" class=\"dataframe\">\n",
       "  <thead>\n",
       "    <tr style=\"text-align: right;\">\n",
       "      <th></th>\n",
       "      <th>Age</th>\n",
       "      <th>Salary</th>\n",
       "    </tr>\n",
       "  </thead>\n",
       "  <tbody>\n",
       "    <tr>\n",
       "      <th>count</th>\n",
       "      <td>6.000000</td>\n",
       "      <td>6.000000</td>\n",
       "    </tr>\n",
       "    <tr>\n",
       "      <th>mean</th>\n",
       "      <td>30.833333</td>\n",
       "      <td>83333.333333</td>\n",
       "    </tr>\n",
       "    <tr>\n",
       "      <th>std</th>\n",
       "      <td>5.845226</td>\n",
       "      <td>10801.234497</td>\n",
       "    </tr>\n",
       "    <tr>\n",
       "      <th>min</th>\n",
       "      <td>25.000000</td>\n",
       "      <td>70000.000000</td>\n",
       "    </tr>\n",
       "    <tr>\n",
       "      <th>25%</th>\n",
       "      <td>26.250000</td>\n",
       "      <td>76250.000000</td>\n",
       "    </tr>\n",
       "    <tr>\n",
       "      <th>50%</th>\n",
       "      <td>30.000000</td>\n",
       "      <td>82500.000000</td>\n",
       "    </tr>\n",
       "    <tr>\n",
       "      <th>75%</th>\n",
       "      <td>33.750000</td>\n",
       "      <td>88750.000000</td>\n",
       "    </tr>\n",
       "    <tr>\n",
       "      <th>max</th>\n",
       "      <td>40.000000</td>\n",
       "      <td>100000.000000</td>\n",
       "    </tr>\n",
       "  </tbody>\n",
       "</table>\n",
       "</div>"
      ],
      "text/plain": [
       "             Age         Salary\n",
       "count   6.000000       6.000000\n",
       "mean   30.833333   83333.333333\n",
       "std     5.845226   10801.234497\n",
       "min    25.000000   70000.000000\n",
       "25%    26.250000   76250.000000\n",
       "50%    30.000000   82500.000000\n",
       "75%    33.750000   88750.000000\n",
       "max    40.000000  100000.000000"
      ]
     },
     "execution_count": 30,
     "metadata": {},
     "output_type": "execute_result"
    }
   ],
   "source": [
    "df.describe()"
   ]
  },
  {
   "cell_type": "code",
   "execution_count": 1,
   "id": "69a00ae0",
   "metadata": {},
   "outputs": [],
   "source": [
    "# # Show the data by 'Department' and calculate the total salary, average, max and min for each department?\n",
    "\n",
    "# df[[\"Salary\",\"Department\"]]\n",
    "# df_summary = df.groupby('Department')['Salary'].agg(\n",
    "#     Total_Salary='sum',\n",
    "#     Average_Salary='mean',\n",
    "#     Max_Salary='max',\n",
    "#     Min_Salary='min'\n",
    "# )\n",
    "\n",
    "# print(df_summary)"
   ]
  },
  {
   "cell_type": "code",
   "execution_count": 53,
   "id": "742d492c",
   "metadata": {},
   "outputs": [
    {
     "data": {
      "text/plain": [
       "Department\n",
       "Finance    155000\n",
       "HR         155000\n",
       "IT         190000\n",
       "Name: Salary, dtype: int64"
      ]
     },
     "execution_count": 53,
     "metadata": {},
     "output_type": "execute_result"
    }
   ],
   "source": [
    "df.groupby(\"Department\")[\"Salary\"].sum()"
   ]
  },
  {
   "cell_type": "code",
   "execution_count": 54,
   "id": "4d27c816",
   "metadata": {},
   "outputs": [
    {
     "data": {
      "text/plain": [
       "Department\n",
       "Finance    75000\n",
       "HR         70000\n",
       "IT         90000\n",
       "Name: Salary, dtype: int64"
      ]
     },
     "execution_count": 54,
     "metadata": {},
     "output_type": "execute_result"
    }
   ],
   "source": [
    "df.groupby(\"Department\")[\"Salary\"].min()"
   ]
  },
  {
   "cell_type": "code",
   "execution_count": 55,
   "id": "722019e7",
   "metadata": {},
   "outputs": [
    {
     "data": {
      "text/plain": [
       "Department\n",
       "Finance     80000\n",
       "HR          85000\n",
       "IT         100000\n",
       "Name: Salary, dtype: int64"
      ]
     },
     "execution_count": 55,
     "metadata": {},
     "output_type": "execute_result"
    }
   ],
   "source": [
    "df.groupby(\"Department\")[\"Salary\"].max()"
   ]
  },
  {
   "cell_type": "code",
   "execution_count": 68,
   "id": "364bd912",
   "metadata": {},
   "outputs": [
    {
     "data": {
      "text/plain": [
       "Salary\n",
       "100000      David\n",
       "90000     Charlie\n",
       "85000       Frank\n",
       "80000         Bob\n",
       "75000         Eva\n",
       "70000       Alice\n",
       "Name: Name, dtype: object"
      ]
     },
     "execution_count": 68,
     "metadata": {},
     "output_type": "execute_result"
    }
   ],
   "source": [
    "# # find the employee with the highest salary?\n",
    "df.groupby(\"Salary\")[\"Name\"].max().sort_index(ascending=False)"
   ]
  },
  {
   "cell_type": "code",
   "execution_count": 37,
   "id": "fa749f66",
   "metadata": {},
   "outputs": [
    {
     "data": {
      "text/html": [
       "<div>\n",
       "<style scoped>\n",
       "    .dataframe tbody tr th:only-of-type {\n",
       "        vertical-align: middle;\n",
       "    }\n",
       "\n",
       "    .dataframe tbody tr th {\n",
       "        vertical-align: top;\n",
       "    }\n",
       "\n",
       "    .dataframe thead th {\n",
       "        text-align: right;\n",
       "    }\n",
       "</style>\n",
       "<table border=\"1\" class=\"dataframe\">\n",
       "  <thead>\n",
       "    <tr style=\"text-align: right;\">\n",
       "      <th></th>\n",
       "      <th>Name</th>\n",
       "      <th>Age</th>\n",
       "      <th>City</th>\n",
       "      <th>Salary</th>\n",
       "      <th>Department</th>\n",
       "      <th>Joining_Year</th>\n",
       "    </tr>\n",
       "  </thead>\n",
       "  <tbody>\n",
       "    <tr>\n",
       "      <th>0</th>\n",
       "      <td>Alice</td>\n",
       "      <td>25</td>\n",
       "      <td>New York</td>\n",
       "      <td>70000</td>\n",
       "      <td>HR</td>\n",
       "      <td>2018</td>\n",
       "    </tr>\n",
       "    <tr>\n",
       "      <th>4</th>\n",
       "      <td>Eva</td>\n",
       "      <td>25</td>\n",
       "      <td>New York</td>\n",
       "      <td>75000</td>\n",
       "      <td>Finance</td>\n",
       "      <td>2018</td>\n",
       "    </tr>\n",
       "    <tr>\n",
       "      <th>1</th>\n",
       "      <td>Bob</td>\n",
       "      <td>30</td>\n",
       "      <td>Los Angeles</td>\n",
       "      <td>80000</td>\n",
       "      <td>Finance</td>\n",
       "      <td>2019</td>\n",
       "    </tr>\n",
       "    <tr>\n",
       "      <th>2</th>\n",
       "      <td>Charlie</td>\n",
       "      <td>35</td>\n",
       "      <td>Chicago</td>\n",
       "      <td>90000</td>\n",
       "      <td>IT</td>\n",
       "      <td>2020</td>\n",
       "    </tr>\n",
       "    <tr>\n",
       "      <th>3</th>\n",
       "      <td>David</td>\n",
       "      <td>40</td>\n",
       "      <td>Houston</td>\n",
       "      <td>100000</td>\n",
       "      <td>IT</td>\n",
       "      <td>2021</td>\n",
       "    </tr>\n",
       "    <tr>\n",
       "      <th>5</th>\n",
       "      <td>Frank</td>\n",
       "      <td>30</td>\n",
       "      <td>Chicago</td>\n",
       "      <td>85000</td>\n",
       "      <td>HR</td>\n",
       "      <td>2022</td>\n",
       "    </tr>\n",
       "  </tbody>\n",
       "</table>\n",
       "</div>"
      ],
      "text/plain": [
       "      Name  Age         City  Salary Department  Joining_Year\n",
       "0    Alice   25     New York   70000         HR          2018\n",
       "4      Eva   25     New York   75000    Finance          2018\n",
       "1      Bob   30  Los Angeles   80000    Finance          2019\n",
       "2  Charlie   35      Chicago   90000         IT          2020\n",
       "3    David   40      Houston  100000         IT          2021\n",
       "5    Frank   30      Chicago   85000         HR          2022"
      ]
     },
     "execution_count": 37,
     "metadata": {},
     "output_type": "execute_result"
    }
   ],
   "source": [
    "# # Who is Working longest in the company and what department does he belong to\n",
    "\n",
    "data2 = {\n",
    "    'Name': ['Alice', 'Bob', 'Charlie', 'David', 'Eva', 'Frank'],\n",
    "    'Joining_Year': [2018, 2019, 2020, 2021, 2018, 2022]\n",
    "}\n",
    "\n",
    "data = {\n",
    "    'Name': ['Alice', 'Bob', 'Charlie', 'David', 'Eva', 'Frank'],\n",
    "    'Age': [25, 30, 35, 40, 25, 30],\n",
    "    'City': ['New York', 'Los Angeles', 'Chicago', 'Houston', 'New York', 'Chicago'],\n",
    "    'Salary': [70000, 80000, 90000, 100000, 75000, 85000],\n",
    "    'Department': ['HR', 'Finance', 'IT', 'IT', 'Finance', 'HR']\n",
    "}\n",
    "\n",
    "fd = pd.DataFrame(data)\n",
    "cd = pd.DataFrame(data2)\n",
    "# concat = [fd,cd]\n",
    "# pd.concat(concat)     #not work for this case\n",
    "vd = pd.merge(fd,cd)\n",
    "vd.sort_values(by=['Joining_Year'],ascending=True)\n",
    "\n"
   ]
  },
  {
   "cell_type": "code",
   "execution_count": 28,
   "id": "da8b0340",
   "metadata": {},
   "outputs": [
    {
     "data": {
      "text/html": [
       "<div>\n",
       "<style scoped>\n",
       "    .dataframe tbody tr th:only-of-type {\n",
       "        vertical-align: middle;\n",
       "    }\n",
       "\n",
       "    .dataframe tbody tr th {\n",
       "        vertical-align: top;\n",
       "    }\n",
       "\n",
       "    .dataframe thead th {\n",
       "        text-align: right;\n",
       "    }\n",
       "</style>\n",
       "<table border=\"1\" class=\"dataframe\">\n",
       "  <thead>\n",
       "    <tr style=\"text-align: right;\">\n",
       "      <th></th>\n",
       "      <th>Name</th>\n",
       "      <th>Age</th>\n",
       "      <th>Sex</th>\n",
       "      <th>City</th>\n",
       "      <th>Marks</th>\n",
       "    </tr>\n",
       "  </thead>\n",
       "  <tbody>\n",
       "    <tr>\n",
       "      <th>2</th>\n",
       "      <td>Matt</td>\n",
       "      <td>30</td>\n",
       "      <td>Male</td>\n",
       "      <td>Boston</td>\n",
       "      <td>95</td>\n",
       "    </tr>\n",
       "    <tr>\n",
       "      <th>3</th>\n",
       "      <td>Oliver</td>\n",
       "      <td>35</td>\n",
       "      <td>Male</td>\n",
       "      <td>New york</td>\n",
       "      <td>65</td>\n",
       "    </tr>\n",
       "    <tr>\n",
       "      <th>1</th>\n",
       "      <td>Cataline</td>\n",
       "      <td>45</td>\n",
       "      <td>Female</td>\n",
       "      <td>San Francisco</td>\n",
       "      <td>80</td>\n",
       "    </tr>\n",
       "    <tr>\n",
       "      <th>0</th>\n",
       "      <td>John</td>\n",
       "      <td>50</td>\n",
       "      <td>Male</td>\n",
       "      <td>Austin</td>\n",
       "      <td>70</td>\n",
       "    </tr>\n",
       "  </tbody>\n",
       "</table>\n",
       "</div>"
      ],
      "text/plain": [
       "       Name  Age     Sex           City  Marks\n",
       "2      Matt   30    Male         Boston     95\n",
       "3    Oliver   35    Male       New york     65\n",
       "1  Cataline   45  Female  San Francisco     80\n",
       "0      John   50    Male         Austin     70"
      ]
     },
     "execution_count": 28,
     "metadata": {},
     "output_type": "execute_result"
    }
   ],
   "source": [
    "import pandas as pd\n",
    "\n",
    "data = [['John', 50, 'Male', 'Austin', 70],\n",
    "['Cataline', 45 ,'Female', 'San Francisco', 80],\n",
    "['Matt', 30 ,'Male', 'Boston', 95],\n",
    "['Oliver',35,'Male', 'New york', 65]]\n",
    "\n",
    "# Column labels of the DataFrame\n",
    "columns = ['Name','Age','Sex', 'City', 'Marks']\n",
    "\n",
    "# Create a DataFrame df\n",
    "df = pd.DataFrame(data, columns=columns)\n",
    "\n",
    "# Sort values based on ‘Age’ column\n",
    "df.sort_values(by=['Age'],ascending=True)\n",
    "\n"
   ]
  },
  {
   "cell_type": "code",
   "execution_count": 38,
   "id": "871a3270",
   "metadata": {},
   "outputs": [
    {
     "data": {
      "text/plain": [
       "name\n",
       "False    3\n",
       "True     1\n",
       "Name: count, dtype: int64"
      ]
     },
     "execution_count": 38,
     "metadata": {},
     "output_type": "execute_result"
    }
   ],
   "source": [
    "tushar = ({\"salary\":[1500,1000,3000,5555],\n",
    "          \"name\":[\"ritik\",\"ritik\",\"kartik\",\"jack\"]\n",
    "})\n",
    "\n",
    "df = pd.DataFrame(tushar)\n",
    "# df.value_counts()\n",
    "# df.sort_values(by=[\"salary\"])\n",
    "# df[df.duplicated()]\n",
    "df[\"name\"].duplicated().value_counts()"
   ]
  },
  {
   "cell_type": "code",
   "execution_count": null,
   "id": "dea1a64c",
   "metadata": {},
   "outputs": [
    {
     "data": {
      "text/plain": [
       "'rahsut'"
      ]
     },
     "execution_count": 12,
     "metadata": {},
     "output_type": "execute_result"
    }
   ],
   "source": [
    "\n",
    "\n",
    "rev"
   ]
  },
  {
   "cell_type": "code",
   "execution_count": 26,
   "id": "4d0d0f2a",
   "metadata": {},
   "outputs": [
    {
     "data": {
      "text/plain": [
       "153"
      ]
     },
     "execution_count": 26,
     "metadata": {},
     "output_type": "execute_result"
    }
   ],
   "source": [
    "num = 153\n",
    "df = str(num)\n",
    "fd = list(df)\n",
    "\n",
    "check = 0\n",
    "for i in fd:\n",
    "    df = int(i) * int(i) * int(i)\n",
    "    check +=df\n",
    "check"
   ]
  },
  {
   "cell_type": "code",
   "execution_count": 27,
   "id": "537bbe57",
   "metadata": {},
   "outputs": [
    {
     "data": {
      "text/plain": [
       "True"
      ]
     },
     "execution_count": 27,
     "metadata": {},
     "output_type": "execute_result"
    }
   ],
   "source": [
    "def check_armstrong(n):\n",
    "    df = list(str(n))\n",
    "\n",
    "    check = 0\n",
    "    for i in df:\n",
    "        ds = int(i) * int(i) * int(i)\n",
    "        check += ds\n",
    "\n",
    "    if check == n:\n",
    "        return True\n",
    "    else:\n",
    "        return False\n",
    "check_armstrong(153)"
   ]
  },
  {
   "cell_type": "code",
   "execution_count": null,
   "id": "2cf5a0c8",
   "metadata": {},
   "outputs": [],
   "source": []
  }
 ],
 "metadata": {
  "kernelspec": {
   "display_name": "Python 3",
   "language": "python",
   "name": "python3"
  },
  "language_info": {
   "codemirror_mode": {
    "name": "ipython",
    "version": 3
   },
   "file_extension": ".py",
   "mimetype": "text/x-python",
   "name": "python",
   "nbconvert_exporter": "python",
   "pygments_lexer": "ipython3",
   "version": "3.13.2"
  }
 },
 "nbformat": 4,
 "nbformat_minor": 5
}
