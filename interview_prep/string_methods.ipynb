{
 "cells": [
  {
   "cell_type": "code",
   "execution_count": null,
   "id": "b6a7b1d1",
   "metadata": {},
   "outputs": [],
   "source": [
    "# String index()\n",
    "# Searches the string for a specified value and returns the position of where it was found"
   ]
  },
  {
   "cell_type": "code",
   "execution_count": 8,
   "id": "ff0c9255",
   "metadata": {},
   "outputs": [
    {
     "data": {
      "text/plain": [
       "11"
      ]
     },
     "execution_count": 8,
     "metadata": {},
     "output_type": "execute_result"
    }
   ],
   "source": [
    "df = \"palidgromea\"\n",
    "len(df)"
   ]
  },
  {
   "cell_type": "code",
   "execution_count": 11,
   "id": "cfb2652c",
   "metadata": {},
   "outputs": [
    {
     "name": "stdout",
     "output_type": "stream",
     "text": [
      "6\n"
     ]
    },
    {
     "data": {
      "text/plain": [
       "10"
      ]
     },
     "execution_count": 11,
     "metadata": {},
     "output_type": "execute_result"
    }
   ],
   "source": [
    "print(df.index(\"r\"))\n",
    "df.index(\"a\",5,11)"
   ]
  },
  {
   "cell_type": "code",
   "execution_count": 29,
   "id": "8509d636",
   "metadata": {},
   "outputs": [
    {
     "data": {
      "text/plain": [
       "False"
      ]
     },
     "execution_count": 29,
     "metadata": {},
     "output_type": "execute_result"
    }
   ],
   "source": [
    "# Check if all the characters in the text are letters:\n",
    "\n",
    "\n",
    "# df = \"palidgro213\"\n",
    "df2 = \"dsa2\"\n",
    "df2.isalpha()\n"
   ]
  },
  {
   "cell_type": "code",
   "execution_count": null,
   "id": "5dda954a",
   "metadata": {},
   "outputs": [
    {
     "data": {
      "text/plain": [
       "['2']"
      ]
     },
     "execution_count": 37,
     "metadata": {},
     "output_type": "execute_result"
    }
   ],
   "source": [
    "alp = []\n",
    "num = []\n",
    "for i in df2:\n",
    "    if i.isalpha() == True:\n",
    "        alp.append(i)\n",
    "    else:\n",
    "        num.append(i)\n",
    "num "
   ]
  },
  {
   "cell_type": "code",
   "execution_count": 43,
   "id": "de661605",
   "metadata": {},
   "outputs": [],
   "source": [
    "# Check if all the characters in the text are whitespaces:"
   ]
  },
  {
   "cell_type": "code",
   "execution_count": null,
   "id": "4d4dbc8c",
   "metadata": {},
   "outputs": [
    {
     "name": "stdout",
     "output_type": "stream",
     "text": [
      "True\n"
     ]
    }
   ],
   "source": [
    "txt = \"   \"\n",
    "x = txt.isspace()\n",
    "print(x)"
   ]
  },
  {
   "cell_type": "code",
   "execution_count": null,
   "id": "bcbb3806",
   "metadata": {},
   "outputs": [],
   "source": [
    "# Check if all the characters in the text are in upper case:\n",
    "# txt.isupper()"
   ]
  },
  {
   "cell_type": "code",
   "execution_count": 48,
   "id": "1ec1c4b2",
   "metadata": {},
   "outputs": [
    {
     "data": {
      "text/plain": [
       "True"
      ]
     },
     "execution_count": 48,
     "metadata": {},
     "output_type": "execute_result"
    }
   ],
   "source": [
    "txt = \"THIS IS NOW!\"\n",
    "txt.isupper()"
   ]
  },
  {
   "cell_type": "code",
   "execution_count": 55,
   "id": "bf4182a3",
   "metadata": {},
   "outputs": [
    {
     "name": "stdout",
     "output_type": "stream",
     "text": [
      "T\n"
     ]
    }
   ],
   "source": [
    "#find all upper one\n",
    "reg = \"sfgT\"\n",
    "\n",
    "for i in reg:\n",
    "    if i.isupper() == True:\n",
    "        print(i) "
   ]
  },
  {
   "cell_type": "code",
   "execution_count": null,
   "id": "6a362ab1",
   "metadata": {},
   "outputs": [
    {
     "data": {
      "text/plain": [
       "True"
      ]
     },
     "execution_count": 52,
     "metadata": {},
     "output_type": "execute_result"
    }
   ],
   "source": [
    "# Check if all the characters in the text are numeric:\n",
    "# x = txt.isnumeric()"
   ]
  },
  {
   "cell_type": "code",
   "execution_count": 60,
   "id": "db2ab0c5",
   "metadata": {},
   "outputs": [
    {
     "data": {
      "text/plain": [
       "'213'"
      ]
     },
     "execution_count": 60,
     "metadata": {},
     "output_type": "execute_result"
    }
   ],
   "source": [
    "vj =\"palidgro213\"\n",
    "\n",
    "gf = \"\"\n",
    "for i in vj:\n",
    "    if i.isnumeric()== True:\n",
    "        gf +=i\n",
    "gf"
   ]
  },
  {
   "cell_type": "code",
   "execution_count": null,
   "id": "7da2d6b1",
   "metadata": {},
   "outputs": [
    {
     "name": "stdout",
     "output_type": "stream",
     "text": [
      "gba#$\n"
     ]
    },
    {
     "data": {
      "text/plain": [
       "'g##$'"
      ]
     },
     "execution_count": 15,
     "metadata": {},
     "output_type": "execute_result"
    }
   ],
   "source": [
    "bn = \"a#b$g\"\n",
    "\n",
    "alph = \"\"\n",
    "other =\"\"\n",
    "for i in bn:\n",
    "    if i.isalpha() == True:\n",
    "        alph +=i\n",
    "    else:\n",
    "        other +=i\n",
    "\n",
    "new = alph[::-1]\n",
    "\n",
    "df = new + other\n",
    "print(df)\n",
    "df.replace(\"ba\",\"#\")  "
   ]
  },
  {
   "cell_type": "code",
   "execution_count": null,
   "id": "fea383d8",
   "metadata": {},
   "outputs": [
    {
     "data": {
      "text/plain": [
       "12"
      ]
     },
     "execution_count": 5,
     "metadata": {},
     "output_type": "execute_result"
    }
   ],
   "source": [
    "bn = \"a#b$g\""
   ]
  },
  {
   "cell_type": "code",
   "execution_count": null,
   "id": "9504c2e0",
   "metadata": {},
   "outputs": [
    {
     "name": "stdout",
     "output_type": "stream",
     "text": [
      "John#Peter#Vicky\n"
     ]
    }
   ],
   "source": [
    "myTuple = (\"John\", \"Peter\", \"Vicky\")\n",
    "\n",
    "x = \"#\".join(myTuple)\n",
    "\n",
    "print(x)"
   ]
  },
  {
   "cell_type": "code",
   "execution_count": 4,
   "id": "1c20babb",
   "metadata": {},
   "outputs": [
    {
     "data": {
      "text/plain": [
       "'utsthtatr'"
      ]
     },
     "execution_count": 4,
     "metadata": {},
     "output_type": "execute_result"
    }
   ],
   "source": [
    "hjd = \"ushar\"\n",
    "\n",
    "\"t\".join(hjd)\n"
   ]
  },
  {
   "cell_type": "code",
   "execution_count": 5,
   "id": "a9cef057",
   "metadata": {},
   "outputs": [
    {
     "data": {
      "text/plain": [
       "'tushar'"
      ]
     },
     "execution_count": 5,
     "metadata": {},
     "output_type": "execute_result"
    }
   ],
   "source": [
    "'t'+hjd"
   ]
  },
  {
   "cell_type": "code",
   "execution_count": 21,
   "id": "e9fa1a9b",
   "metadata": {},
   "outputs": [
    {
     "name": "stdout",
     "output_type": "stream",
     "text": [
      "nameTESTcountry\n"
     ]
    }
   ],
   "source": [
    "myDict = {\"name\": \"John\", \"country\": \"Norway\"}\n",
    "mySeparator = \"TEST\"\n",
    "\n",
    "x = mySeparator.join(myDict)\n",
    "\n",
    "print(x)"
   ]
  },
  {
   "cell_type": "code",
   "execution_count": 22,
   "id": "ab2fe382",
   "metadata": {},
   "outputs": [],
   "source": [
    "# lower()\tConverts a string into lower case"
   ]
  },
  {
   "cell_type": "code",
   "execution_count": 23,
   "id": "af832bfc",
   "metadata": {},
   "outputs": [
    {
     "data": {
      "text/plain": [
       "'hello my friends'"
      ]
     },
     "execution_count": 23,
     "metadata": {},
     "output_type": "execute_result"
    }
   ],
   "source": [
    "txt = \"Hello my FRIENDS\"\n",
    "\n",
    "txt.lower()"
   ]
  },
  {
   "cell_type": "code",
   "execution_count": 28,
   "id": "a6dbff36",
   "metadata": {},
   "outputs": [
    {
     "name": "stdout",
     "output_type": "stream",
     "text": [
      "d\n"
     ]
    }
   ],
   "source": [
    "gh = \"FRIENDdS\"\n",
    "\n",
    "for i in gh:\n",
    "    if i.islower() ==True:\n",
    "        print(i)"
   ]
  },
  {
   "cell_type": "code",
   "execution_count": 1,
   "id": "e4a37f6f",
   "metadata": {},
   "outputs": [
    {
     "name": "stdout",
     "output_type": "stream",
     "text": [
      "Tello Sam!\n"
     ]
    }
   ],
   "source": [
    "txt = \"Hello Sam!\"\n",
    "\n",
    "table = str.maketrans(\"H\",\"T\")\n",
    "print(txt.translate(table))\n"
   ]
  },
  {
   "cell_type": "code",
   "execution_count": 35,
   "id": "0f119f57",
   "metadata": {},
   "outputs": [
    {
     "name": "stdout",
     "output_type": "stream",
     "text": [
      "Hello Pam!\n"
     ]
    }
   ],
   "source": [
    "txt = \"Hello Sam!\"\n",
    "\n",
    "mytable = str.maketrans(\"S\", \"P\")\n",
    "\n",
    "print(txt.translate(mytable))\n"
   ]
  },
  {
   "cell_type": "code",
   "execution_count": null,
   "id": "851f6503",
   "metadata": {},
   "outputs": [],
   "source": [
    "# replace()\tReturns a string where a specified value is replaced with a specified value"
   ]
  },
  {
   "cell_type": "code",
   "execution_count": null,
   "id": "fdf40756",
   "metadata": {},
   "outputs": [],
   "source": [
    "txt = \"I like bananas\"\n",
    "\n",
    "x = txt.replace(\"bananas\", \"apples\")\n",
    "\n",
    "print(x)\n"
   ]
  },
  {
   "cell_type": "code",
   "execution_count": 38,
   "id": "c12b2c0c",
   "metadata": {},
   "outputs": [
    {
     "data": {
      "text/plain": [
       "'dananas'"
      ]
     },
     "execution_count": 38,
     "metadata": {},
     "output_type": "execute_result"
    }
   ],
   "source": [
    "bh = \"bananas\"\n",
    "bh.replace(\"b\",\"d\")"
   ]
  },
  {
   "cell_type": "code",
   "execution_count": null,
   "id": "4056bd34",
   "metadata": {},
   "outputs": [],
   "source": [
    "# split()\tSplits the string at the specified separator, and returns a list\n",
    "txt = \"welcome to the jungle\"\n",
    "\n",
    "x = txt.split()\n",
    "\n",
    "print(x)"
   ]
  },
  {
   "cell_type": "code",
   "execution_count": null,
   "id": "949b72fc",
   "metadata": {},
   "outputs": [],
   "source": [
    "# startswith()\tReturns true if the string starts with the specified value\n",
    "txt = \"Hello, welcome to my world.\"\n",
    "\n",
    "x = txt.startswith(\"Hello\")\n",
    "\n",
    "print(x)"
   ]
  }
 ],
 "metadata": {
  "kernelspec": {
   "display_name": "Python 3",
   "language": "python",
   "name": "python3"
  },
  "language_info": {
   "codemirror_mode": {
    "name": "ipython",
    "version": 3
   },
   "file_extension": ".py",
   "mimetype": "text/x-python",
   "name": "python",
   "nbconvert_exporter": "python",
   "pygments_lexer": "ipython3",
   "version": "3.13.2"
  }
 },
 "nbformat": 4,
 "nbformat_minor": 5
}
