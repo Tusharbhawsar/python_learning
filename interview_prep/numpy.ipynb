{
 "cells": [
  {
   "cell_type": "code",
   "execution_count": null,
   "id": "01890bcc",
   "metadata": {},
   "outputs": [],
   "source": [
    "# Python Program illustrating\n",
    "# numpy.dot() method\n",
    "\n",
    "import numpy as geek\n",
    "\n",
    "# Scalars\n",
    "product = geek.dot(5, 4)\n",
    "print(\"Dot Product of scalar values : \", product)\n",
    "\n",
    "# 1D array\n",
    "vector_a = 2 + 3j\n",
    "vector_b = 4 + 5j\n",
    "\n",
    "product = geek.dot(vector_a, vector_b)\n",
    "print(\"Dot Product : \", product)\n"
   ]
  },
  {
   "cell_type": "code",
   "execution_count": null,
   "id": "abda0aa4",
   "metadata": {},
   "outputs": [],
   "source": [
    "# Dot Product of scalar values  :  20\n",
    "# Dot Product  :  (-7+22j)\n",
    "\n",
    "# How Code1 works ? \n",
    "\n",
    "# vector_a = 2 + 3j \n",
    "# vector_b = 4 + 5j\n",
    "\n",
    "# now dot product \n",
    "\n",
    "# = 2(4 + 5j) + 3j(4 +5j) \n",
    "# = 8 + 10j + 12j - 15 \n",
    "# = -7 + 22j"
   ]
  },
  {
   "cell_type": "code",
   "execution_count": 1,
   "id": "95281bd8",
   "metadata": {},
   "outputs": [
    {
     "name": "stdout",
     "output_type": "stream",
     "text": [
      "Dot Product : \n",
      " [[22 12]\n",
      " [40 32]]\n",
      "\n",
      "Dot Product : \n",
      " [[22 32]\n",
      " [15 32]]\n"
     ]
    },
    {
     "data": {
      "text/plain": [
       "' \\nCode 2 : as normal matrix multiplication\\n'"
      ]
     },
     "execution_count": 1,
     "metadata": {},
     "output_type": "execute_result"
    }
   ],
   "source": [
    "# Python Program illustrating\n",
    "# numpy.dot() method\n",
    "\n",
    "import numpy as geek\n",
    "\n",
    "# 1D array\n",
    "vector_a = geek.array([[1, 4], [5, 6]])\n",
    "vector_b = geek.array([[2, 4], [5, 2]])\n",
    "\n",
    "product = geek.dot(vector_a, vector_b)\n",
    "print(\"Dot Product : \\n\", product)\n",
    "\n",
    "product = geek.dot(vector_b, vector_a)\n",
    "print(\"\\nDot Product : \\n\", product)\n",
    "\n",
    "\"\"\" \n",
    "Code 2 : as normal matrix multiplication\n",
    "\"\"\"\n"
   ]
  },
  {
   "cell_type": "code",
   "execution_count": null,
   "id": "61f6d480",
   "metadata": {},
   "outputs": [],
   "source": [
    "# Dot Product  : \n",
    "#  [[22 12]\n",
    "#  [40 32]]\n",
    "\n",
    "# Dot Product  : \n",
    "#  [[22 32]\n",
    "#  [15 32]]"
   ]
  }
 ],
 "metadata": {
  "kernelspec": {
   "display_name": "Python 3",
   "language": "python",
   "name": "python3"
  },
  "language_info": {
   "codemirror_mode": {
    "name": "ipython",
    "version": 3
   },
   "file_extension": ".py",
   "mimetype": "text/x-python",
   "name": "python",
   "nbconvert_exporter": "python",
   "pygments_lexer": "ipython3",
   "version": "3.13.2"
  }
 },
 "nbformat": 4,
 "nbformat_minor": 5
}
