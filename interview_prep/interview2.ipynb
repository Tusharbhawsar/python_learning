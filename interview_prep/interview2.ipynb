{
 "cells": [
  {
   "cell_type": "code",
   "execution_count": null,
   "metadata": {},
   "outputs": [],
   "source": [
    "# Given an integer, , perform the following conditional actions:\n",
    "\n",
    "# If n is odd, print Weird\n",
    "# If n is even and in the inclusive range of 2 to 5, print Not Weird\n",
    "# If n is even and in the inclusive range of 6 to 20, print Weird\n",
    "# If n is even and greater than 20 , print Not Weird"
   ]
  },
  {
   "cell_type": "code",
   "execution_count": null,
   "metadata": {},
   "outputs": [],
   "source": [
    "if __name__ == \"__main__\":\n",
    "    n = int(input().strip()) \n",
    "\n",
    "    if n % 2 ==1:\n",
    "        print(\"Werid\")\n",
    "    elif n % 2 == 0 and n >= 2 and n <= 5:\n",
    "        print(\"Not Werid\")\n",
    "    elif n % 2 == 0 and n >= 6 and n <= 20:\n",
    "        print(\"Werid\")\n",
    "    elif n % 2 == 0 and n > 20:\n",
    "        print(\"Not Werid\")\n",
    "    "
   ]
  },
  {
   "cell_type": "code",
   "execution_count": null,
   "metadata": {},
   "outputs": [],
   "source": [
    ">= greate the equal\n",
    "<= less then equal\n"
   ]
  },
  {
   "cell_type": "code",
   "execution_count": null,
   "metadata": {},
   "outputs": [],
   "source": [
    "# The provided code stub reads two integers from STDIN,  and . Add code to print three lines where:\n",
    "\n",
    "# The first line contains the sum of the two numbers.\n",
    "# The second line contains the difference of the two numbers (first - second).\n",
    "# The third line contains the product of the two numbers.\n",
    "a = 3\n",
    "b = 5\n",
    "#output\n",
    "8\n",
    "-2\n",
    "15"
   ]
  },
  {
   "cell_type": "code",
   "execution_count": null,
   "metadata": {},
   "outputs": [],
   "source": [
    "if __name__ == \"__main__\":\n",
    "    a = int(input())\n",
    "    b = int(input())\n",
    "\n",
    "    print( a + b)\n",
    "    print(a - b)\n",
    "    print(a * b)"
   ]
  },
  {
   "cell_type": "code",
   "execution_count": null,
   "metadata": {},
   "outputs": [],
   "source": [
    "a = 4\n",
    "b = 2\n",
    "\n",
    "print(a / b)\n",
    "print(a // b) #it return quotient"
   ]
  },
  {
   "cell_type": "code",
   "execution_count": null,
   "metadata": {},
   "outputs": [],
   "source": [
    "# Print the square of each number on a separate line."
   ]
  },
  {
   "cell_type": "code",
   "execution_count": null,
   "metadata": {},
   "outputs": [],
   "source": [
    "if __name__ == \"__main__\":\n",
    "    n = 3 \n",
    "\n",
    "    for i in range(n):\n",
    "        print(i * n)"
   ]
  },
  {
   "cell_type": "code",
   "execution_count": null,
   "metadata": {},
   "outputs": [],
   "source": [
    "for i in range(3):\n",
    "    print( i * i )\n",
    "\n",
    "    # print(n * i)\n"
   ]
  },
  {
   "cell_type": "code",
   "execution_count": null,
   "metadata": {},
   "outputs": [],
   "source": [
    "if __name__ == \"__main__\":\n",
    "    n = int(input())\n",
    "\n",
    "    if n % 4 == 0 and n % 100 ==0 and n % 400 ==0:\n",
    "        print(\" leap year\")\n",
    "    else:\n",
    "        print(\"not leap year\")\n",
    "    "
   ]
  },
  {
   "cell_type": "code",
   "execution_count": null,
   "metadata": {},
   "outputs": [],
   "source": [
    "n = 5\n",
    "\n",
    "if n % 2 != 0:\n",
    "    print(\"odd\")\n",
    "else:\n",
    "    print(\"even\")\n"
   ]
  },
  {
   "cell_type": "code",
   "execution_count": null,
   "metadata": {},
   "outputs": [],
   "source": [
    "5 % 2"
   ]
  },
  {
   "cell_type": "code",
   "execution_count": null,
   "metadata": {},
   "outputs": [],
   "source": [
    "n = 1992\n",
    "def check(year):\n",
    "    if year % 400 ==0:\n",
    "        return True\n",
    "    elif year % 100 ==0:\n",
    "        return False\n",
    "    elif year % 4 ==0:\n",
    "        return True\n",
    "    else:\n",
    "        return False\n"
   ]
  },
  {
   "cell_type": "code",
   "execution_count": null,
   "metadata": {},
   "outputs": [],
   "source": [
    "n = int(input())\n",
    "check(n)"
   ]
  },
  {
   "cell_type": "code",
   "execution_count": null,
   "metadata": {},
   "outputs": [],
   "source": [
    "def is_leap(year):\n",
    "    if year % 400 == 0:\n",
    "        return True\n",
    "    elif year % 100 == 0:\n",
    "        return False\n",
    "    elif year % 4 == 0:\n",
    "        return True\n",
    "    else:\n",
    "        return False\n",
    "year = int(input())\n",
    "print(is_leap(year))"
   ]
  },
  {
   "cell_type": "code",
   "execution_count": null,
   "metadata": {},
   "outputs": [],
   "source": [
    "if __name__ == '__main__':\n",
    "    n = int(input())\n",
    "    \n",
    "    for i in range(1 ,n +1):\n",
    "        print(i,end = \"\")"
   ]
  },
  {
   "cell_type": "code",
   "execution_count": null,
   "metadata": {},
   "outputs": [],
   "source": [
    "# In this challenge, the user enters a string and a substring. You have to print the number of times that the substring occurs in\n",
    "# the given string.String traversal will take place from left to right, not from right to left\n",
    "ABCDCDC\n",
    "CDC\n",
    "2"
   ]
  },
  {
   "cell_type": "code",
   "execution_count": null,
   "metadata": {},
   "outputs": [],
   "source": [
    "\n",
    "def count_substring(string, sub_string):\n",
    "    return"
   ]
  },
  {
   "cell_type": "code",
   "execution_count": null,
   "metadata": {},
   "outputs": [],
   "source": [
    "st = \"ABCDCDC\"\n",
    "sub_st = \"CDC\"\n",
    "\n",
    "count = 0\n",
    "for i in range(len(st)-len(sub_st)+1):\n",
    "    print(st[i:i+len(sub_st)])    \n",
    "    if st[i:i+len(sub_st)] in sub_st:\n",
    "        count +=1\n",
    "print(count)"
   ]
  },
  {
   "cell_type": "code",
   "execution_count": null,
   "metadata": {},
   "outputs": [],
   "source": [
    "df = \"cdc\"\n",
    "fg = \"cdc\"\n",
    "\n",
    "df == fg"
   ]
  },
  {
   "cell_type": "code",
   "execution_count": null,
   "metadata": {},
   "outputs": [],
   "source": [
    "st = \"ABCDCDC\"\n",
    "sub_st = \"CDC\"\n",
    "\n",
    "count = 0\n",
    "for i in range(len(st)):\n",
    "    df = st[i:i+len(sub_st)]\n",
    "    # print(df)\n",
    "    if df == sub_st:\n",
    "        count +=1\n",
    "print(count)"
   ]
  },
  {
   "cell_type": "code",
   "execution_count": null,
   "metadata": {},
   "outputs": [],
   "source": [
    "st = \"ABCDCDC\"\n",
    "sub_st = \"CDC\"\n",
    "\n",
    "count = 0\n",
    "for i in range(len(st)):\n",
    "    df = st[i :i +len(sub_st)]\n",
    "    if df == sub_st:\n",
    "        coun "
   ]
  },
  {
   "cell_type": "code",
   "execution_count": null,
   "metadata": {},
   "outputs": [],
   "source": [
    "def count_substring(string, sub_string):\n",
    "    count = 0\n",
    "    for i in range(len(string) - len(sub_string) +1):\n",
    "        if string[i:i + len(sub_string)] in sub_string:\n",
    "            count +=1\n",
    "    return count\n"
   ]
  },
  {
   "cell_type": "code",
   "execution_count": null,
   "metadata": {},
   "outputs": [],
   "source": [
    "# s = str(input())\n",
    "# sb = str(input())\n",
    "\n",
    "s = \"ABCDCDC\"\n",
    "sb = \"CDC\"\n",
    "count_substring(s,sb)\n"
   ]
  },
  {
   "cell_type": "code",
   "execution_count": null,
   "metadata": {},
   "outputs": [],
   "source": [
    "class student:\n",
    "    name = \"Tushar\"\n",
    "    sur = \"bhawsar\"\n",
    "    \n",
    "tb = student()\n",
    "print(tb.name) \n",
    "tb.sur "
   ]
  },
  {
   "cell_type": "code",
   "execution_count": null,
   "metadata": {},
   "outputs": [],
   "source": [
    "class stdnt:\n",
    "    def __init__(self):\n",
    "        print(\"tuhsar\")\n",
    "\n",
    "tb = stdnt()\n"
   ]
  },
  {
   "cell_type": "code",
   "execution_count": null,
   "metadata": {},
   "outputs": [],
   "source": [
    "class Srd:\n",
    "    def count_substring(self,string, sub_string):\n",
    "        count = 0\n",
    "        for i in range(len(string) - len(sub_string) +1):\n",
    "            if string[i:i + len(sub_string)] in sub_string:\n",
    "                count +=1\n",
    "        return count\n",
    "\n",
    "\n",
    "strd_obj = Srd()\n",
    "string = \"ABCDCDC\"\n",
    "sub_string = \"CDC\"\n",
    "print(strd_obj.count_substring(string,sub_string))\n",
    "\n",
    "# Example usage\n",
    "# strd_obj = Srd()\n",
    "# string = input().strip()\n",
    "# sub_string = input().strip()\n",
    "\n",
    "# print(strd_obj.count_substring(string, sub_string))\n"
   ]
  },
  {
   "cell_type": "code",
   "execution_count": null,
   "metadata": {},
   "outputs": [],
   "source": [
    "# 02. custom sort \n",
    "\n",
    "input = [5, 12, 3, 8, 9, 4, 2, 6, 7]\n",
    "\n",
    "output = [2, 4, 6, 8, 12, 9, 7, 5, 3]\n",
    "\n",
    "even = []\n",
    "odd = []\n",
    "\n",
    "for i in input:\n",
    "    if i % 2 ==0:\n",
    "        even.append(i)\n",
    "    else:\n",
    "        odd.append(i)\n",
    "rev = sorted(odd)\n",
    "upd = rev[:: -1]\n",
    "upd\n",
    "sorted(even) + upd\n"
   ]
  },
  {
   "cell_type": "code",
   "execution_count": null,
   "metadata": {},
   "outputs": [],
   "source": [
    "# 03.  FizzBuzz (Classic)\n",
    "# Print numbers 1 to 100, but:\n",
    "\n",
    "# If divisible by 3, print \"Fizz\"\n",
    "# If divisible by 5, print \"Buzz\"\n",
    "# If divisible by both, print \"FizzBuzz\"\n",
    "\n",
    "for i in range(100):\n",
    "    print(i)\n",
    "    if i % 3 ==0 and i % 5 ==0:\n",
    "        print(\"FizzBuzz\")\n",
    "    elif i % 3 ==0:\n",
    "        print(\"fizz\")\n",
    "    elif i % 5 ==0:\n",
    "        print(\"Buzz\")\n"
   ]
  },
  {
   "cell_type": "code",
   "execution_count": null,
   "metadata": {},
   "outputs": [],
   "source": [
    "# %pwd"
   ]
  },
  {
   "cell_type": "code",
   "execution_count": null,
   "metadata": {},
   "outputs": [],
   "source": [
    "arr = [1, 2, 3, 4, 5, 6, 7, 8, 9, 10, 6, 7, 8, 9, 10, 1, 2, 3, 4, 5]\n",
    "target_sum = 12\n"
   ]
  },
  {
   "cell_type": "code",
   "execution_count": null,
   "metadata": {},
   "outputs": [],
   "source": [
    "dict1 = {}\n",
    "arr = [1, 2, 3, 3, 4, 5, 6, 7, 8, 9, 10, 6, 7, 8, 9, 1, 2, 3, 4, 5]\n",
    "\n",
    "for i in arr:\n",
    "    # print(arr.count(i))\n",
    "    dict1[i] = arr.count(i)\n",
    "\n",
    "print(dict1)\n"
   ]
  },
  {
   "cell_type": "code",
   "execution_count": null,
   "metadata": {},
   "outputs": [],
   "source": [
    "# # 04.  Find Missing \n",
    "\n",
    "n = [1,2,3,5]\n",
    "\n",
    "miss = []\n",
    "for i in range(1,len(n) +2):\n",
    "    print(n)\n",
    "for j in n:\n",
    "    if i == j:\n",
    "        print(\"t\")\n",
    "    else:\n",
    "        print(\"f\")"
   ]
  },
  {
   "cell_type": "code",
   "execution_count": null,
   "metadata": {},
   "outputs": [],
   "source": [
    "\n",
    "arr = [1, 2, 3, 3, 4, 5, 6] \n",
    "\n",
    "even = []\n",
    "for i in arr:\n",
    "    if i % 2==0:\n",
    "        even.append(i)\n",
    "print(even)"
   ]
  },
  {
   "cell_type": "code",
   "execution_count": null,
   "metadata": {},
   "outputs": [],
   "source": [
    "arr = [1, 2, 3, 3, 4, 5, 6] \n",
    "\n",
    "evn = []\n",
    "oddd = []\n",
    "df = [evn.append(i) if i % 2 ==0 else oddd.append(i) for i in arr]\n",
    "print(evn)\n",
    "print(oddd)\n"
   ]
  },
  {
   "cell_type": "code",
   "execution_count": null,
   "metadata": {},
   "outputs": [],
   "source": [
    "[evn.append(i) if i % 2 ==0 else odd.append (i) for i in arr ]"
   ]
  },
  {
   "cell_type": "code",
   "execution_count": null,
   "metadata": {},
   "outputs": [],
   "source": [
    "def fact (n):\n",
    "    if n ==0:\n",
    "        return n\n",
    "    elif n ==1:\n",
    "        return n\n",
    "    elif n ==2:\n",
    "        return n\n",
    "    else:\n",
    "        data = n * fact(n-1)\n",
    "        return data\n",
    "fact(5)\n",
    "    "
   ]
  },
  {
   "cell_type": "code",
   "execution_count": null,
   "metadata": {},
   "outputs": [],
   "source": [
    "# # 04.  Find Missing Number\n",
    "\n",
    "def find_missing(nums):\n",
    "    n = len(nums) + 1\n",
    "    expected_sum = n * (n + 1) // 2\n",
    "    actual_sum = sum(nums)\n",
    "    return expected_sum - actual_sum\n",
    "\n",
    "print(find_missing([1, 2, 3, 5]))\n"
   ]
  },
  {
   "cell_type": "code",
   "execution_count": null,
   "metadata": {},
   "outputs": [],
   "source": [
    "arr = [1, 2, 4, 5, 6]  # Missing number is 3\n",
    "N = 6  # Range 1 to 6\n",
    "\n",
    "total_sum = N * (N + 1) // 2  # Sum of first N numbers\n",
    "actual_sum = sum(arr)  # Sum of given numbers\n",
    "\n",
    "missing_number = total_sum - actual_sum\n",
    "print(\"Missing number:\", missing_number)\n",
    "\n",
    "\">>>>>>>>>>>>>>>>>>>>>>>>>>>>>>>>>>>>>>>>>>>>>>>>>>>>>>>>>>>>>>>\"\n",
    "arr = [1, 2, 4, 5, 6]  # Missing number is 3\n",
    "arr.sort()  # Sort the array\n",
    "\n",
    "for i in range(len(arr)):\n",
    "    if arr[i] != i + 1:  # Check if the index+1 matches the number\n",
    "        print(\"Missing number:\", i + 1)\n",
    "        break\n",
    "\">>>>>>>>>>>>>>>>>>>>>>>>>>>>>>>>>>>>>>>>>>>>>>>>>>>>>>>>>>>>>>>>>>>>\"\n",
    "\n",
    "arr = [1, 2, 4, 5, 6]  # Missing number is 3\n",
    "N = 6  # Range 1 to 6\n",
    "\n",
    "full_set = set(range(1, N + 1))  # Set of all numbers from 1 to N\n",
    "arr_set = set(arr)  # Set of given numbers\n",
    "\n",
    "missing_number = list(full_set - arr_set)[0]  # Find the missing number\n",
    "print(\"Missing number:\", missing_number)\n",
    "\n"
   ]
  },
  {
   "cell_type": "code",
   "execution_count": null,
   "metadata": {},
   "outputs": [],
   "source": [
    "arr = [1, 2, 4, 5, 6]\n",
    "\n",
    "for i in range(len(arr)):\n",
    "    if arr[i] != i + 1:\n",
    "        print(i +1)\n",
    "        break\n",
    "\n",
    "# 1=1\n",
    "# 2=2\n",
    "# 4=3 this condition will be break on this place so for that we are using print(i +1)\n",
    "# 5=4\n",
    "\n",
    "     "
   ]
  },
  {
   "cell_type": "code",
   "execution_count": null,
   "metadata": {},
   "outputs": [],
   "source": [
    "arr = [1,7, 2, 4, 5, 6]\n",
    "\n",
    "arr = sorted(arr)\n",
    "print(arr)\n",
    "\n",
    "for i in range(len(arr)):\n",
    "    if arr[i] != 1 +i:\n",
    "        print(i + 1)\n",
    "        break\n"
   ]
  },
  {
   "cell_type": "code",
   "execution_count": null,
   "metadata": {},
   "outputs": [],
   "source": [
    "# Let's learn about list comprehensions! You are given three integers x,y and z\n",
    "# representing the dimensions of a cuboid along with an integer n. Print a list of\n",
    "# all possible coordinates given by (i,j, k) on a 3D grid where the sum of\n",
    "# i+ j+ k is not equal to n.Here,0 <i <x;0 <j <y;0 <k < z Please\n",
    "# use list comprehensions rather than multiple loops, as a learning exercise.\n",
    "# Example\n",
    "# x=1\n",
    "# y=1\n",
    "# z=2\n",
    "# n=3\n",
    "# All permutations of [i,j,k] are:\n",
    "# [[0, 0, 0], [0, 0, 1], [0, 0, 2], [0, 1, 0], [0, 1, 1], [0, 1, 2], [1, 0, 0], [1, 0, 1], [1, 0, 2], [1, 1, 0], [1, 1, 1], [1, 1, 2]] \n",
    "\n",
    "# Print an array of the elements that do not sum to n = 3\n",
    "# [[0,0,0],0,0,1],[0,0,2],[0,1,0], (0, 1,1], [1,0,0], [1,0, 1],[ 1, 1,0], [1, 1,2])"
   ]
  },
  {
   "cell_type": "code",
   "execution_count": null,
   "metadata": {},
   "outputs": [],
   "source": [
    "#using loop\n",
    "x = 1\n",
    "y = 1\n",
    "z = 2\n",
    "n = 3\n",
    "\n",
    "par = []\n",
    "for i in range(0 ,x +1):\n",
    "    for j in range(0 ,y+1):\n",
    "        for k in range(0 , z+1):\n",
    "                # par.append([i,j,k])\n",
    "                # print(i,j,k)            \n",
    "            if i + k + j !=n:\n",
    "                print(i,j,k)\n",
    "# print(par)"
   ]
  },
  {
   "cell_type": "code",
   "execution_count": null,
   "metadata": {},
   "outputs": [],
   "source": [
    "#using list comprahansion\n",
    "x = 1\n",
    "y = 1\n",
    "z = 2\n",
    "n = 3\n",
    "\n",
    "result = [ [i , j, k ] for i in range(0 ,x +1) for j in range(0,y + 1) for k in range(0 , z +1) if i + j + k !=n]\n",
    "print(result)"
   ]
  },
  {
   "cell_type": "code",
   "execution_count": null,
   "metadata": {},
   "outputs": [],
   "source": [
    "# Given the participants' score sheet for your University Sports Day, you are required to find the runner-up score. \n",
    "# You are given  scores. Store them in a list and find the score of the runner-up"
   ]
  },
  {
   "cell_type": "code",
   "execution_count": null,
   "metadata": {},
   "outputs": [],
   "source": [
    "n = 5\n",
    "inp = [2 ,3, 6,6,5]\n",
    "\n",
    "remove_duplicate = set(inp)\n",
    "# sorting = sort(remove_duplicate) #sort function is not working on set\n",
    "sorting = sorted(remove_duplicate) #sorted function give the output in the list and it will run on the set as well\n",
    "print(sorting)\n",
    "\n",
    "sec_runnerup = sorting[-2]\n",
    "print(sec_runnerup)\n",
    "\n",
    "\n",
    "# 2 > 3\n",
    "# 3 > 6\n",
    "# 6 > 6\n",
    "# 6 > 5\n"
   ]
  },
  {
   "cell_type": "code",
   "execution_count": null,
   "metadata": {},
   "outputs": [],
   "source": [
    "# if __name__ == '__main__':\n",
    "#     n = int(input())\n",
    "#     arr = map(int, input().split())\n",
    "#     result = sorted(set(arr))[-2]\n",
    "#     print(result)"
   ]
  },
  {
   "cell_type": "code",
   "execution_count": null,
   "metadata": {},
   "outputs": [],
   "source": [
    "def analyze_numbers(numbers):\n",
    "    return {\n",
    "        \"sum\": sum(numbers),\n",
    "        \"max\": max(numbers),\n",
    "        \"min\": min(numbers),\n",
    "        \"unique_numbers\": set(numbers)\n",
    "    }\n",
    "\n",
    "numbers = [4, 2, 8, 4, 1, 8, 3, 2]\n",
    "result = analyze_numbers(numbers)\n",
    "\n",
    "print(result)\n"
   ]
  },
  {
   "cell_type": "code",
   "execution_count": null,
   "metadata": {},
   "outputs": [],
   "source": [
    "numbers = [4, 2, 8, 4, 1, 8, 3, 2]\n",
    "\n",
    "results = {\"sum\":sum(numbers),\n",
    "           \"max\" :max(numbers),\n",
    "           \"min\":min(numbers),\n",
    "           \"unique_number\":set(numbers)\n",
    "\n",
    "}\n",
    "\n",
    "print(results)"
   ]
  },
  {
   "cell_type": "code",
   "execution_count": null,
   "metadata": {},
   "outputs": [],
   "source": [
    "# Given the names and grades for each student in a class of n students, store them in a nested list and print the name(s) \n",
    "# of any student(s) having the second lowest grade."
   ]
  },
  {
   "cell_type": "code",
   "execution_count": null,
   "metadata": {},
   "outputs": [],
   "source": [
    "pythonstudents = [['Harry', 37.21], ['Berry', 37.21], ['Tina', 37.2], ['Akriti', 41], ['Harsh', 39]]\n",
    "\n",
    "for i in pythonstudents:\n",
    "    name =i[0]\n",
    "    score = i[1]"
   ]
  },
  {
   "cell_type": "code",
   "execution_count": null,
   "metadata": {},
   "outputs": [],
   "source": [
    "# find first missing positive number\n",
    "\n",
    "# data = [3,4,-1,1]\n",
    "data = [3,4,-1,5]\n",
    "\n",
    "\n",
    "dataa = sorted(data)\n",
    "print(dataa)\n",
    "\n",
    "missing = 1\n",
    "for i in dataa:\n",
    "    if i == missing:\n",
    "        missing +=1\n",
    "print(missing)\n",
    "\n"
   ]
  },
  {
   "cell_type": "code",
   "execution_count": null,
   "metadata": {},
   "outputs": [],
   "source": [
    "data = [3,4,-1,1,5]\n",
    "\n",
    "de = sorted(data)\n",
    "print(de)\n",
    "\n",
    "missing = 1\n",
    "\n",
    "for i in de :\n",
    "    if i == missing:\n",
    "        missing +=1\n",
    "print(missing)"
   ]
  },
  {
   "cell_type": "code",
   "execution_count": null,
   "metadata": {},
   "outputs": [],
   "source": [
    "# Reverse Integer\n",
    "# Reverse an integer without converting it to a string.\n",
    "123 % 10"
   ]
  },
  {
   "cell_type": "code",
   "execution_count": null,
   "metadata": {},
   "outputs": [],
   "source": [
    "123 //10"
   ]
  },
  {
   "cell_type": "code",
   "execution_count": null,
   "metadata": {},
   "outputs": [],
   "source": [
    "x = 123\n",
    "res = 0\n",
    "\n",
    "while x:\n",
    "    res = res * 10 + x % 10\n",
    "    x //= 10\n",
    "\n",
    "print(res)\n"
   ]
  },
  {
   "cell_type": "code",
   "execution_count": null,
   "metadata": {},
   "outputs": [],
   "source": [
    "x = -123  # input number\n",
    "res = 0\n",
    "neg = x < 0\n",
    "x = abs(x)\n",
    "\n",
    "while x: \n",
    "    res = res * 10 + x % 10\n",
    "    x //= 10\n",
    "\n",
    "if neg:\n",
    "    res = -res\n",
    "\n",
    "print(res)\n"
   ]
  },
  {
   "cell_type": "code",
   "execution_count": null,
   "metadata": {},
   "outputs": [],
   "source": [
    "a = 123 #sabse pehle me ye try karunga ku last value 3 nikal jye \n",
    "\n",
    "res = 0\n",
    "\n",
    "while a:  #iska mtalb ye jab tk a zero nhi hoga tb tk while loop chalega\n",
    "    res = res * 10 + a % 10   #this give me reminder\n",
    "    a //= 10  #this give me quotient mean kitna bar proper divide hua he\n",
    "print(res)"
   ]
  },
  {
   "cell_type": "code",
   "execution_count": null,
   "metadata": {},
   "outputs": [],
   "source": [
    "# Iteration\ta\ta % 10\tres calculation\t    a //= 10\n",
    "# 1\t       123\t  3\t    0 * 10 + 3 = 3\t     12\n",
    "# 2\t       12\t  2\t    3 * 10 + 2 = 32\t      1\n",
    "# 3\t        1\t  1\t    32 * 10 + 1 = 321\t  0\n",
    "# 4\t        0\t  —\t    loop ends\t          —"
   ]
  },
  {
   "cell_type": "code",
   "execution_count": null,
   "metadata": {},
   "outputs": [],
   "source": [
    "#  2. Substraction\n",
    "# Subtract two numbers without using the\n",
    "# subtraction (-) operator."
   ]
  },
  {
   "cell_type": "code",
   "execution_count": null,
   "metadata": {},
   "outputs": [],
   "source": [
    "a = 5\n",
    "b = 3\n",
    "\n",
    "re = a\n",
    "count = b\n",
    "\n",
    "while count:\n",
    "    re -= 1\n",
    "    count -=1\n",
    "print(re)\n",
    "print(count)"
   ]
  },
  {
   "cell_type": "code",
   "execution_count": null,
   "metadata": {},
   "outputs": [],
   "source": [
    "a = 5\n",
    "b = 3\n",
    "\n",
    "while b:\n",
    "    a -= 1\n",
    "    b -= 1\n",
    "print(a)"
   ]
  },
  {
   "cell_type": "code",
   "execution_count": null,
   "metadata": {},
   "outputs": [],
   "source": [
    "# 3. Numberless\n",
    "# Print the numbers from 1 to 100 without\n",
    "# using any numeric literals in the code.(dont use any number like 1,100,0)"
   ]
  },
  {
   "cell_type": "code",
   "execution_count": null,
   "metadata": {},
   "outputs": [],
   "source": [
    "one = \"a\"\n",
    "fin_one = len(one)\n",
    "hundred = \"aaaaaaaaaaaaaaaaaaaaaaaaaaaaaaaaaaaaaaaaaaaaaaaaaaaaaaaaaaaaaaaaaaaaaaaaaaaaaaaaaaaaaaaaaaaaaaaaaaaa\"\n",
    "fin_hund = len(hundred)\n",
    "\n",
    "for i in range(fin_one , fin_hund + fin_one):\n",
    "    print(i)"
   ]
  },
  {
   "cell_type": "code",
   "execution_count": null,
   "metadata": {},
   "outputs": [],
   "source": [
    "# 4. Positive or Negative\n",
    "# Determine if a number is positive or\n",
    "# negative without using comparison\n",
    "# operators."
   ]
  },
  {
   "cell_type": "code",
   "execution_count": null,
   "metadata": {},
   "outputs": [],
   "source": [
    "import math\n",
    "\n",
    "a  = -43\n",
    "\n",
    "g = math.copysign(1,a)\n",
    "print(g)\n",
    "\n",
    "if g == 1.0:\n",
    "    print(\"positive number\")\n",
    "else:\n",
    "    print(\"negative number\")\n",
    "\n",
    "# import math\n",
    "\n",
    "# x = -42\n",
    "\n",
    "# result = {1.0: \"Positive\", -1.0: \"Negative\"}[math.copysign(1, x)]\n",
    "# print(result)"
   ]
  },
  {
   "cell_type": "code",
   "execution_count": null,
   "metadata": {},
   "outputs": [],
   "source": [
    "w = -32\n",
    "f = str(w)[0]\n",
    "# print(f[0])\n",
    "\n",
    "if f == \"-\":\n",
    "    print(\"negative\")\n",
    "else:\n",
    "    print(\"positive\")"
   ]
  },
  {
   "cell_type": "code",
   "execution_count": null,
   "metadata": {},
   "outputs": [],
   "source": [
    "# h = 322\n",
    "\n",
    "# g = abs(h)\n",
    "\n",
    "# if h == g:\n",
    "#     print(\"positive\")\n",
    "# else:\n",
    "#     print(\"negative\")\n",
    "\n",
    "x = -42\n",
    "\n",
    "diff = abs(x) - x  # if x is positive → 0; if negative → > 0\n",
    "\n",
    "# diff will be 0 for positive, > 0 for negative\n",
    "print([\"Positive\", \"Negative\"][bool(diff)])\n"
   ]
  },
  {
   "cell_type": "code",
   "execution_count": null,
   "metadata": {},
   "outputs": [],
   "source": [
    "# 5. Print Thalaivaa\n",
    "# Print “Thalaivaa” Without Using Any\n",
    "# Vowels (A, E, I, 0, U,a,e,i,o,u)."
   ]
  },
  {
   "cell_type": "code",
   "execution_count": null,
   "metadata": {},
   "outputs": [],
   "source": [
    "ab = \"tushar\"\n",
    "\n",
    "\"_\".join(ab)"
   ]
  },
  {
   "cell_type": "code",
   "execution_count": null,
   "metadata": {},
   "outputs": [],
   "source": [
    "myTuple = (\"John\", \"Peter\", \"Vicky\")\n",
    "\n",
    "th = \"#\".join(myTuple)\n",
    "print(th)"
   ]
  },
  {
   "cell_type": "code",
   "execution_count": null,
   "metadata": {},
   "outputs": [],
   "source": [
    "myTuple = (\"John\", \"Peter\", \"Vicky\")\n",
    "\n",
    "add = \"is \"\n",
    "\n",
    "add.join(myTuple)"
   ]
  },
  {
   "cell_type": "code",
   "execution_count": null,
   "metadata": {},
   "outputs": [],
   "source": [
    "thisdict = {\n",
    "  \"brand\": \"Ford\",\n",
    "  \"electric\": False,\n",
    "  \"year\": 1964,\n",
    "  \"colors\": [\"red\", \"white\", \"blue\"]\n",
    "}\n",
    "\n",
    "print(thisdict[\"colors\"])\n",
    "\n",
    "for i in thisdict[\"colors\"]:\n",
    "    print(i)\n",
    "\n"
   ]
  },
  {
   "cell_type": "code",
   "execution_count": null,
   "metadata": {},
   "outputs": [],
   "source": [
    "creat_dict = dict(name = \"tushar\", surname = \"bhawsar\" , citizen =\"indian\")\n",
    "print(creat_dict)\n",
    "creat_dict = dict(name = [\"red\", \"white\", \"blue\"] , surname = \"bhawsar\" , citizen =\"indian\")\n",
    "creat_dict[\"name\"][1]"
   ]
  },
  {
   "cell_type": "code",
   "execution_count": null,
   "metadata": {},
   "outputs": [],
   "source": [
    "#Write a function to check if a string is a palindrome.\n",
    "# Palindrome ka matlab hota hai \"Ek aisa word ya sentence jo ulta karne pe bhi same hi dikhe.\"\n",
    "# \"madam\" → ulta bhi \"madam\" → ✅ Palindrome\n",
    "# \"racecar\" → ulta bhi \"racecar\" → ✅ Palindrome\n",
    "# \"hello\" → ulta \"olleh\" → ❌ Not a Palindrome"
   ]
  },
  {
   "cell_type": "code",
   "execution_count": null,
   "metadata": {},
   "outputs": [],
   "source": [
    "# a = \"madam\"\n",
    "a = \"tushar\"\n",
    "b = a[::-1]\n",
    "\n",
    "is_palidrome = True\n",
    "\n",
    "for i in range(len(a)):\n",
    "    if a[i] != b[i]:\n",
    "       is_palidrome = False\n",
    "       break\n",
    "if is_palidrome:\n",
    "    print(\"palidrome\")\n",
    "else:\n",
    "    print(\"no palidrome\")"
   ]
  },
  {
   "cell_type": "code",
   "execution_count": null,
   "metadata": {},
   "outputs": [],
   "source": [
    "b = \"madamu\"\n",
    "g = b[::-1]\n",
    "\n",
    "check = True\n",
    "for i in range(len(b)):\n",
    "    if b[i] != g[i]:\n",
    "        check = False\n",
    "        break\n",
    "\n",
    "if check:\n",
    "     print(\"palidrome\")\n",
    "else:\n",
    "    print(\"no palidrome\")"
   ]
  },
  {
   "cell_type": "code",
   "execution_count": null,
   "metadata": {},
   "outputs": [],
   "source": [
    "def check_palidrome(stng):\n",
    "    a = stng\n",
    "    b = a[::-1]\n",
    "\n",
    "    is_pali = True\n",
    "    for i in range(len(a)):\n",
    "        if a[i] != b[i]:\n",
    "            is_pali = False\n",
    "            break\n",
    "\n",
    "    if is_pali:\n",
    "        print(\"palidrome\")\n",
    "    else:\n",
    "        print(\"no palidrome\")\n",
    "\n",
    "check_palidrome(\"tuhsar\")\n",
    "check_palidrome(\"madam\")"
   ]
  },
  {
   "cell_type": "code",
   "execution_count": null,
   "metadata": {},
   "outputs": [],
   "source": [
    "class Pali:\n",
    "    def check_palidrome(self ,stng):     #Python class methods ka first argument hamesha self hota hai, jo object ko refer karta hai.\n",
    "        a = stng\n",
    "        b = a[::-1]\n",
    "\n",
    "        is_pali = True\n",
    "        for i in range(len(a)):\n",
    "            if a[i] != b[i]:\n",
    "                is_pali = False\n",
    "                break\n",
    "\n",
    "        if is_pali:\n",
    "            print(\"palidrome\")\n",
    "        else:\n",
    "            print(\"no palidrome\")\n",
    "\n",
    "th = Pali()\n",
    "th.check_palidrome(\"madam\")"
   ]
  },
  {
   "cell_type": "code",
   "execution_count": null,
   "metadata": {},
   "outputs": [],
   "source": [
    "class Pali:\n",
    "    @staticmethod                    #without defining the self parameter\n",
    "    def check_palidrome(stng):\n",
    "        a = stng\n",
    "        b = a[::-1]\n",
    "\n",
    "        is_pali = True\n",
    "        for i in range(len(a)):\n",
    "            if a[i] != b[i]:\n",
    "                is_pali = False\n",
    "                break\n",
    "\n",
    "        if is_pali:\n",
    "            print(\"palidrome\")\n",
    "        else:\n",
    "            print(\"no palidrome\")\n",
    "\n",
    "th = Pali()\n",
    "th.check_palidrome(\"madam\")"
   ]
  },
  {
   "cell_type": "code",
   "execution_count": null,
   "metadata": {},
   "outputs": [],
   "source": [
    "def fact (nu):\n",
    "    if nu == 0:\n",
    "       return 0\n",
    "    elif nu == 1:\n",
    "       return 1\n",
    "    else:\n",
    "       return nu * fact(nu -1)\n",
    "\n",
    "fact(1)"
   ]
  },
  {
   "cell_type": "code",
   "execution_count": null,
   "metadata": {},
   "outputs": [],
   "source": [
    "0,1,1,2,3,5"
   ]
  },
  {
   "cell_type": "code",
   "execution_count": null,
   "metadata": {},
   "outputs": [],
   "source": [
    "# Fibonacci Series\n",
    "def fibo (n: int)->list:\n",
    "    a,b = 0,1\n",
    "    seried = []\n",
    "    for i in range(n):\n",
    "        seried.append(a)\n",
    "        a ,b = b ,a +b\n",
    "    return seried\n",
    "fibo(5)"
   ]
  },
  {
   "cell_type": "code",
   "execution_count": null,
   "metadata": {},
   "outputs": [],
   "source": [
    "def rec_fibo(n):\n",
    "    a , b = 0,1\n",
    "    create_fibo = []\n",
    "    for i in range(n):\n",
    "        create_fibo.append(a)\n",
    "        a , b = b ,a + b\n",
    "\n",
    "    return create_fibo\n",
    "rec_fibo(5)\n",
    "\n"
   ]
  },
  {
   "cell_type": "code",
   "execution_count": null,
   "metadata": {},
   "outputs": [],
   "source": [
    "[0, 1, 1, 2, 3]\n",
    "\n",
    "0,1\n",
    "1 1\n",
    "1 2\n",
    "2 3\n",
    "3 5"
   ]
  },
  {
   "cell_type": "code",
   "execution_count": null,
   "metadata": {},
   "outputs": [],
   "source": [
    "def fibonacci_iterative(n):\n",
    "    a = 0\n",
    "    b = 1\n",
    "    for i in range(n):\n",
    "        print(a, end=' ')\n",
    "        c = a + b\n",
    "        a = b\n",
    "        b = c\n",
    "fibonacci_iterative(5)"
   ]
  },
  {
   "cell_type": "code",
   "execution_count": null,
   "metadata": {},
   "outputs": [],
   "source": [
    "def fibonacci_recursive(n):\n",
    "    if n <= 0:\n",
    "        return 0\n",
    "    elif n == 1:\n",
    "        return 1\n",
    "    else:\n",
    "        return fibonacci_recursive(n - 1) + fibonacci_recursive(n - 2)\n",
    "\n",
    "fibonacci_recursive(6)"
   ]
  },
  {
   "cell_type": "code",
   "execution_count": null,
   "metadata": {},
   "outputs": [],
   "source": [
    "# s = 'abc123we'\n",
    "# interger = []\n",
    "# words = []\n",
    "# for i in s:\n",
    "#     if type(i) == int:\n",
    "#         interger.append(i)\n",
    "#     else:\n",
    "#         words.append(i)        "
   ]
  },
  {
   "cell_type": "code",
   "execution_count": null,
   "metadata": {},
   "outputs": [],
   "source": [
    "print(interger)"
   ]
  },
  {
   "cell_type": "code",
   "execution_count": null,
   "metadata": {},
   "outputs": [],
   "source": [
    "words"
   ]
  },
  {
   "cell_type": "code",
   "execution_count": null,
   "metadata": {},
   "outputs": [],
   "source": [
    "s = 'abc123we'\n",
    "interger = []\n",
    "words = []\n",
    "for i in s:\n",
    "    try:\n",
    "        if int(i):\n",
    "            interger.append(i)\n",
    "    except:\n",
    "        words.append(i)\n",
    "\n",
    "print(interger)\n",
    "print(words)"
   ]
  },
  {
   "cell_type": "code",
   "execution_count": null,
   "metadata": {},
   "outputs": [],
   "source": [
    "s = 'abc123we'\n",
    "\n",
    "nm = []\n",
    "wr = []\n",
    "for i in s :\n",
    "    if i <= \"0\" :\n",
    "        nm.append(int(i))\n",
    "    else:\n",
    "        wr.append(i)\n",
    "\n",
    "print(nm)\n",
    "print(wr)"
   ]
  },
  {
   "cell_type": "code",
   "execution_count": null,
   "metadata": {},
   "outputs": [],
   "source": [
    "# Write a program to check if two strings are anagrams\n",
    "# Do strings jinke characters same ho, sirf order alag ho.\n",
    "\n",
    "# Example:\n",
    "# \"listen\" aur \"silent\" → anagrams ✅\n",
    "# \"hello\" aur \"world\" → not anagrams ❌"
   ]
  },
  {
   "cell_type": "code",
   "execution_count": null,
   "metadata": {},
   "outputs": [],
   "source": [
    "str1 = \"listen\"\n",
    "str2 = \"silent\"\n",
    "df = sorted(str1)\n",
    "data = sorted(str2)\n",
    "\n",
    "if df == data:\n",
    "    print(\"anagrams\")\n",
    "else:\n",
    "    print(\"no anagrams\")"
   ]
  },
  {
   "cell_type": "code",
   "execution_count": null,
   "metadata": {},
   "outputs": [],
   "source": [
    "#  Largest Odd Number in String\n",
    "\n",
    "s = \"35427068\"\n",
    "tu = s.split()\n",
    "\n",
    "even = []\n",
    "odd = []\n",
    "\n",
    "for i in tu[0]:\n",
    "    if int(i) % 2==0:\n",
    "        even.append(i)\n",
    "    else:\n",
    "        odd.append(i)\n",
    "        \n",
    "print(odd)\n",
    "\n"
   ]
  },
  {
   "cell_type": "code",
   "execution_count": null,
   "metadata": {},
   "outputs": [],
   "source": [
    "x = range(3, 6)\n",
    "\n",
    "for n in x:\n",
    "  print(n)"
   ]
  },
  {
   "cell_type": "code",
   "execution_count": null,
   "metadata": {},
   "outputs": [],
   "source": [
    "x = range(3, 20, 2)\n",
    "\n",
    "for n in x:\n",
    "  print(n)"
   ]
  },
  {
   "cell_type": "code",
   "execution_count": null,
   "metadata": {},
   "outputs": [],
   "source": [
    "for i in range(len(s)-1,-1,-1): #this loop run right to left\n",
    "    print(i)"
   ]
  },
  {
   "cell_type": "code",
   "execution_count": null,
   "metadata": {},
   "outputs": [],
   "source": [
    "s = \"35427068\"\n",
    "\n",
    "for i in range(len(s)-1,-1,-1):\n",
    "    print(i) \n",
    "    if int(s[i]) % 2 ==1:\n",
    "        print(s[:i+1])\n",
    "        break"
   ]
  },
  {
   "cell_type": "code",
   "execution_count": null,
   "metadata": {},
   "outputs": [],
   "source": [
    "gh = [1,2,3,4,5,6,7,8]\n",
    "gh[:4 +1]"
   ]
  },
  {
   "cell_type": "code",
   "execution_count": null,
   "metadata": {},
   "outputs": [],
   "source": [
    "s = \"35427068\"\n",
    "\n",
    "# Right se check karo pehla odd digit\n",
    "for i in range(len(s)-1, -1, -1): #this loop run right to left\n",
    "    print(i)\n",
    "    if int(s[i]) % 2 == 1:\n",
    "        print(\"Largest odd number in string:\", s[:i+1])\n",
    "        break\n",
    "else:\n",
    "    print(\"No odd number found\")\n"
   ]
  },
  {
   "cell_type": "code",
   "execution_count": null,
   "metadata": {},
   "outputs": [],
   "source": [
    "def answer(num):\n",
    "    \n",
    "    for i in range(len(num) - 1, -1, -1):\n",
    "        if int(num[i]) % 2 == 1:\n",
    "            return num[:i + 1]\n",
    "    \n",
    "    return \"\"  # Return an empty string if no odd digit is found\n",
    "\n",
    "\n",
    "answer(\"35427068\")"
   ]
  },
  {
   "cell_type": "code",
   "execution_count": null,
   "metadata": {},
   "outputs": [],
   "source": [
    "# Remove Duplicates from Sorted Array \n",
    "hb = [1, 1, 2, 2, 3, 4, 4]\n",
    "Output: [1, 2, 3, 4]\n",
    "\n",
    "unq = set()\n",
    "for i in hb:\n",
    "    unq.add(i)\n",
    "print(unq)\n",
    "print(list(unq))"
   ]
  },
  {
   "cell_type": "code",
   "execution_count": null,
   "metadata": {},
   "outputs": [],
   "source": [
    "hb = [1, 1, 2, 2, 3, 4, 4]\n",
    "Output: [1, 2, 3, 4]\n",
    "\n",
    "dfd = {}\n",
    "\n",
    "count = 0\n",
    "for i in hb:\n",
    "    if i in dfd:\n",
    "        dfd[i] +=1\n",
    "    else:\n",
    "        dfd[i] = 1\n",
    "dfd.keys()"
   ]
  },
  {
   "cell_type": "code",
   "execution_count": null,
   "metadata": {},
   "outputs": [],
   "source": [
    "# Given a list of integers, write a function to find the two numbers that sum up to a given target\n",
    "nums = [3,2,4]\n",
    "target = 6\n",
    "\n",
    "check = {}\n",
    "for ind ,value in enumerate(nums):\n",
    "    same = target - value\n",
    "    if same in check:\n",
    "        print(same,value)\n",
    "    check[value] = ind\n",
    "print(check)"
   ]
  },
  {
   "cell_type": "code",
   "execution_count": null,
   "metadata": {},
   "outputs": [],
   "source": [
    "# Find the longest substring without repeating characters in a given string.\n",
    "# Input: s = “geeksforgeeks”\n",
    "# Output: 7 \n",
    "# Explanation: The longest substrings without repeating characters are “eksforg” and “ksforge”, with lengths of 7.\n",
    "\n",
    "# Input: s = “aaa”\n",
    "# Output: 1\n",
    "# Explanation: The longest substring without repeating characters is “a”\n",
    "\n",
    "# Input: s = \"abcdefabcbb\"\n",
    "# Output: 6\n",
    "# Explanation: The longest substring without repeating characters is “abcdef”."
   ]
  },
  {
   "cell_type": "code",
   "execution_count": null,
   "metadata": {},
   "outputs": [],
   "source": [
    "#jugad tarika but for only 1 case\n",
    "# s = \"abcdefabcbb\"\n",
    "s = \"geeksforgeeks\"  #“eksforg”\n",
    "\n",
    "count =0\n",
    "\n",
    "for i in range(len(s)):\n",
    "    for j in range(i + 1, len(s)):\n",
    "        if s[i] == s[j]:\n",
    "            count +=1\n",
    "            break\n",
    "print(count)\n",
    "print(s[:-5])"
   ]
  },
  {
   "cell_type": "code",
   "execution_count": null,
   "metadata": {},
   "outputs": [],
   "source": [
    "# s = \"geeksforgeeks\"\n",
    "s = \"abcdefabcbb\"\n",
    "\n",
    "# s.index(\"s\")\n",
    "max_len = 0\n",
    "res = \"\"\n",
    "\n",
    "for i in range(len(s)):\n",
    "    temp = \"\"\n",
    "    for j in range(i, len(s)):\n",
    "        if s[j] in temp:\n",
    "            break\n",
    "        else:\n",
    "            temp += s[j]\n",
    "    if len(temp) > max_len:\n",
    "        max_len = len(temp)\n",
    "        res = temp\n",
    "\n",
    "print(\"Count:\", max_len)\n",
    "print(\"Substring:\", res)\n"
   ]
  },
  {
   "cell_type": "code",
   "execution_count": null,
   "metadata": {},
   "outputs": [],
   "source": [
    "s = \"abcdefabcbb\"\n",
    "# s = \"geeksforgeeks\"\n",
    "# s[0 +1:]\n",
    "temp = \"\"\n",
    "res = \"\"\n",
    "\n",
    "for c in s:\n",
    "    if c in temp:\n",
    "        temp = temp[temp.index(c)+1:]\n",
    "    temp += c\n",
    "    if len(temp) > len(res):\n",
    "        res = temp\n",
    "\n",
    "print(\"Count:\", len(res))\n",
    "print(\"Substring:\", res)\n"
   ]
  },
  {
   "cell_type": "code",
   "execution_count": null,
   "metadata": {},
   "outputs": [],
   "source": [
    "s = \"abcdefabcbb\"\n",
    "# s = \"a\"\n",
    "tmp = \"\"\n",
    "res = \"\"\n",
    "for i in s:\n",
    "    if i in tmp:\n",
    "        tmp = tmp[tmp.index(i)+1:]\n",
    "    tmp += i\n",
    "    if len(tmp) > len(res):\n",
    "        res = tmp\n",
    "print(res)"
   ]
  },
  {
   "cell_type": "code",
   "execution_count": null,
   "metadata": {},
   "outputs": [],
   "source": [
    "s = \"abcdefabcbb\"\n",
    "\n",
    "new = \"\"\n",
    "fin_new = \"\"\n",
    "\n",
    "for i in s:\n",
    "    if i in new:\n",
    "        new = new[new.index(i)+1:]\n",
    "    new += i\n",
    "\n",
    "    if len(new) > len(fin_new):\n",
    "        fin_new = new \n",
    "print(fin_new)"
   ]
  },
  {
   "cell_type": "code",
   "execution_count": null,
   "metadata": {},
   "outputs": [],
   "source": [
    "s = \"abcdefabcbb\"\n",
    "# f =s[s.index(s) +1:]\n",
    "# print(f)\n",
    "chec = \"\"\n",
    "f = \"\"\n",
    "for i in s:\n",
    "    if i in chec:\n",
    "        chec = chec[chec.index(i)+1:]\n",
    "        print(chec,\">>>>>\")\n",
    "    chec += i\n",
    "\n",
    "    if len(chec) > len(f):\n",
    "        f =chec\n",
    "\n",
    "print(f)"
   ]
  },
  {
   "cell_type": "code",
   "execution_count": null,
   "metadata": {},
   "outputs": [],
   "source": [
    "# 1. create a random list of integers between 20,30.\n",
    "import random\n",
    "\n",
    "hin = []\n",
    "for i in range(10):\n",
    "    y = random.randint(20,30)\n",
    "    hin.append(y)\n",
    "print(hin)"
   ]
  },
  {
   "cell_type": "code",
   "execution_count": null,
   "metadata": {},
   "outputs": [],
   "source": [
    "# sort this list without using inbuilt method\n",
    "\n",
    "tn = [0,3,5,6,7,2,1,4,5,8]\n",
    "\n",
    "for i in range(len(tn)):\n",
    "    for j in range(i +1,len(tn)):\n",
    "        if tn[i] > tn[j]:\n",
    "            tn[i],tn[j]=tn[j],tn[i]\n",
    "print(tn) "
   ]
  },
  {
   "cell_type": "code",
   "execution_count": null,
   "metadata": {},
   "outputs": [],
   "source": [
    "# explain inheritance with example\n",
    "class Animal:\n",
    "    def speak(self):\n",
    "        print(\"Animal speak\")\n",
    "\n",
    "class Dog(Animal):\n",
    "    def bark(self):\n",
    "        print(\"Animal Bark\")\n",
    "\n",
    "d = Dog()\n",
    "d.speak()\n",
    "d.bark()"
   ]
  },
  {
   "cell_type": "code",
   "execution_count": null,
   "metadata": {},
   "outputs": [],
   "source": [
    "# Longest Common Prefix\n",
    "strs = [\"flower\", \"flow\", \"flight\"]\n",
    "\n",
    "for i in strs[1:]:\n",
    "    print(i)\n",
    "    "
   ]
  },
  {
   "cell_type": "code",
   "execution_count": null,
   "metadata": {},
   "outputs": [],
   "source": [
    "def con(sd):\n",
    "    df = sd[0]\n",
    "    fd = sd[-1]\n",
    "    print(fd)\n",
    "    fina = \"\"\n",
    "    for i in range(len(sd)):\n",
    "        if df[i] !=fd[i]:\n",
    "            return fina\n",
    "        fina += df[i]\n",
    "    return fina\n",
    "\n",
    "strs = [\"flower\", \"flow\", \"flight\"]\n",
    "con(strs)"
   ]
  },
  {
   "cell_type": "code",
   "execution_count": null,
   "metadata": {},
   "outputs": [],
   "source": [
    "def answer(strs):\n",
    "  if not strs: \n",
    "    return \"\"\n",
    "  strs = sorted(strs)\n",
    "  first = strs[0]\n",
    "  last = strs[-1]\n",
    "    \n",
    "  ans = \"\"\n",
    "    \n",
    "    \n",
    "  for i in range(min(len(first), len(last))):\n",
    "    print(i)\n",
    "    if first[i] != last[i]:\n",
    "        return ans  \n",
    "    ans += first[i]\n",
    "    \n",
    "  return ans\n",
    "\n",
    "strs = [\"flower\", \"flow\", \"flight\"]\n",
    "answer(strs)"
   ]
  },
  {
   "cell_type": "code",
   "execution_count": null,
   "metadata": {},
   "outputs": [],
   "source": [
    "def pre(st):\n",
    "    end = st[-1]\n",
    "    print(end)\n",
    "    start = st[0]\n",
    "\n",
    "    final = \"\"\n",
    "    for i in range(len(st)):\n",
    "        print(i)\n",
    "        if end[i] != start[i]:\n",
    "            return final\n",
    "        final += start[i]\n",
    "    return final\n",
    "\n",
    "vv = [\"flower\", \"flow\", \"flight\"]\n",
    "pre(vv)"
   ]
  },
  {
   "cell_type": "code",
   "execution_count": null,
   "metadata": {},
   "outputs": [],
   "source": [
    "#finding same suffix\n",
    "def pre(st):\n",
    "    end = st[-1]\n",
    "    print(end)\n",
    "    start = st[0]\n",
    "\n",
    "    final = \"\"\n",
    "    for i in range(1 ,len(st)):\n",
    "        sa = i - 3 \n",
    "        print(sa)\n",
    "        if end[sa] != start[sa]:\n",
    "            return final\n",
    "        final += start[sa]\n",
    "    return final\n",
    "\n",
    "vv = [\"fowecr\", \"fowcr\", \"fightcr\"]\n",
    "pre(vv)"
   ]
  },
  {
   "cell_type": "code",
   "execution_count": null,
   "metadata": {},
   "outputs": [],
   "source": [
    "#finding same suffix perfect way\n",
    "\n",
    "def suffix(su):\n",
    "    endd = su[-1]\n",
    "    s = su[0]\n",
    "\n",
    "    suix = \"\"\n",
    "    for i in range(1 ,len(su)):\n",
    "        sr = i - len(su)\n",
    "        if endd[sr] != s[sr]:\n",
    "            return suix\n",
    "        suix += endd[sr]\n",
    "    return suix\n",
    "\n",
    "fg = [\"fowecr\", \"fowcr\", \"fightcr\"]\n",
    "suffix(fg)"
   ]
  },
  {
   "cell_type": "code",
   "execution_count": null,
   "metadata": {},
   "outputs": [],
   "source": [
    "vv = [\"fowerr\", \"fowrr\", \"fightrr\"]\n",
    "vv[0][-1]"
   ]
  },
  {
   "cell_type": "code",
   "execution_count": null,
   "metadata": {},
   "outputs": [],
   "source": [
    "sa = \"-\"\n",
    "print(f\"{sa}{1}\")"
   ]
  },
  {
   "cell_type": "code",
   "execution_count": null,
   "metadata": {},
   "outputs": [],
   "source": [
    "# Rotate Array \n",
    "# Rotate Array right\n",
    "\n",
    "arr = [1, 2, 3, 4, 5]\n",
    "k = 2\n",
    "\n",
    "fis = arr[:k+1]\n",
    "end = arr[k +1:]\n",
    "\n",
    "final = end + fis\n",
    "print(final)\n",
    "\n",
    "end.extend(fis)\n",
    "end"
   ]
  },
  {
   "cell_type": "code",
   "execution_count": null,
   "metadata": {},
   "outputs": [],
   "source": [
    "arr = [10, 5, 8, 20, 15]\n",
    "sorted(arr)[-2]"
   ]
  },
  {
   "cell_type": "code",
   "execution_count": null,
   "metadata": {},
   "outputs": [],
   "source": [
    "# Write a Program to Find Weather the Number is Palindrome or Not."
   ]
  },
  {
   "cell_type": "code",
   "execution_count": null,
   "metadata": {},
   "outputs": [],
   "source": [
    "num = 12321\n",
    "original = num\n",
    "lst = []\n",
    "\n",
    "# Step 1: number ke digits ko list me store karo\n",
    "while num > 0:\n",
    "    lst.append(num % 10)\n",
    "    num //= 10\n",
    "print(num)\n",
    "# Step 2: compare list with uska reverse\n",
    "if lst == lst[::-1]:\n",
    "    print(\"Palindrome\")\n",
    "else:\n",
    "    print(\"Not Palindrome\")\n"
   ]
  },
  {
   "cell_type": "code",
   "execution_count": null,
   "metadata": {},
   "outputs": [],
   "source": [
    "12321 %10"
   ]
  },
  {
   "cell_type": "code",
   "execution_count": null,
   "metadata": {},
   "outputs": [],
   "source": [
    "12321 //10"
   ]
  },
  {
   "cell_type": "code",
   "execution_count": null,
   "metadata": {},
   "outputs": [],
   "source": [
    "num = 123212\n",
    "\n",
    "fds = []\n",
    "while num > 0:\n",
    "    fds.append(num % 10)\n",
    "    num //=10\n",
    "if fds == fds[::-1]:\n",
    "    print(\"Palindrome\")\n",
    "else:\n",
    "    print(\"Not Palindrome\")"
   ]
  },
  {
   "cell_type": "code",
   "execution_count": null,
   "metadata": {},
   "outputs": [],
   "source": [
    "num = 12321\n",
    "num = str(num)\n",
    "rev = num[::-1]\n",
    "# print(rev)\n",
    "for i in range(len(rev)):\n",
    "    if num[i] == rev[i]:\n",
    "        print(\"palindrome\")\n",
    "        break\n",
    "    else:\n",
    "        print(\"not palindrome\")\n",
    "        break\n"
   ]
  },
  {
   "cell_type": "code",
   "execution_count": null,
   "metadata": {},
   "outputs": [],
   "source": [
    "#find the missing\n",
    "arr = [1,2, 3, 4, 6]\n",
    "arr = sorted(arr)\n",
    "\n",
    "for i in range(len(arr)):\n",
    "    if arr[i] != i +1:\n",
    "        print(i+1)\n",
    "        break"
   ]
  },
  {
   "cell_type": "code",
   "execution_count": null,
   "metadata": {},
   "outputs": [],
   "source": [
    "# Remove Duplicates from Sorted Array\n",
    "arr = [1,2, 3,2, 4, 6]\n",
    "\n",
    "unuq = set()\n",
    "\n",
    "for i in arr:\n",
    "    unuq.add(i)\n",
    "\n",
    "print(unuq)"
   ]
  },
  {
   "cell_type": "code",
   "execution_count": null,
   "metadata": {},
   "outputs": [],
   "source": [
    "# 12. Write a Program to Count the Occurrence of a Character in a String\n",
    "fd = \"palindromea\"\n",
    "co ={}\n",
    "\n",
    "tot = 0\n",
    "for i in fd:\n",
    "    if i in co:\n",
    "        co[i] +=1\n",
    "    else:\n",
    "        co[i] = 1\n",
    "co"
   ]
  },
  {
   "cell_type": "code",
   "execution_count": null,
   "metadata": {},
   "outputs": [],
   "source": [
    "fd = \"palindromea\"\n",
    "fd.find(\"a\")\n",
    "fd.index(\"l\")"
   ]
  },
  {
   "cell_type": "code",
   "execution_count": null,
   "metadata": {},
   "outputs": [],
   "source": [
    "# Write a Program to Find the Duplicate Number in Array.\n",
    "arr = [1,2,3,2,4,6]\n",
    "\n",
    "for i in arr:\n",
    "    df = arr.count(i)\n",
    "    if df >1:\n",
    "        print(i)\n",
    "        break"
   ]
  },
  {
   "cell_type": "code",
   "execution_count": null,
   "metadata": {},
   "outputs": [],
   "source": [
    "arr = [1,2,3,2,4,6]\n",
    "\n",
    "for i in arr:\n",
    "    if arr.count(i) ==2:\n",
    "        print(i)\n",
    "        break"
   ]
  },
  {
   "cell_type": "code",
   "execution_count": null,
   "metadata": {},
   "outputs": [],
   "source": [
    "def answer(arr):\n",
    "    key = 10\n",
    "    l = 0\n",
    "    h = len(arr) - 1\n",
    "    flag = False\n",
    "\n",
    "    while l <= h:\n",
    "        m = (l + h) \n",
    "\n",
    "        if arr[m] == key:\n",
    "            print(\"Element found\")\n",
    "            flag = True\n",
    "            break\n",
    "\n",
    "        if arr[m] < key:\n",
    "            l = m + 1\n",
    "        else:\n",
    "            h = m - 1\n",
    "\n",
    "    if not flag:\n",
    "        print(\"Element not found\")"
   ]
  },
  {
   "cell_type": "code",
   "execution_count": null,
   "metadata": {},
   "outputs": [],
   "source": [
    "# iter() function is used to create an iterator containing an iterable object\n",
    "# next() function is used to call the next element in the iterable object.\n",
    "#iterate the element from the object one by one"
   ]
  },
  {
   "cell_type": "code",
   "execution_count": null,
   "metadata": {},
   "outputs": [],
   "source": [
    "arr = [1,2, 3,2, 4, 6]\n",
    "\n",
    "for i in arr:\n",
    "    print(i,\"*******\")\n",
    "\n",
    "pdf = iter(arr)\n",
    "print(next(pdf))\n",
    "print(next(pdf))\n",
    "print(next(pdf))"
   ]
  },
  {
   "cell_type": "code",
   "execution_count": null,
   "metadata": {},
   "outputs": [],
   "source": [
    "#generater are linked to the iterators the actually creates the iterators\n",
    "#difference between the generator and the regular function is we use the return keyword in function \n",
    "# whereas we use  the yield keyword for generator\n",
    "#generator is implemented as a function that automatically calls the iter() and the next() method using the yield statment"
   ]
  },
  {
   "cell_type": "code",
   "execution_count": null,
   "metadata": {},
   "outputs": [],
   "source": [
    "def substr(str,start,len):\n",
    "    for i in range(start,len):\n",
    "        # yield (str[i])\n",
    "        return str[i]\n",
    "\n",
    "for i in substr(\"tusharbhawsar\",0,4):\n",
    "    print(i)"
   ]
  },
  {
   "cell_type": "code",
   "execution_count": null,
   "metadata": {},
   "outputs": [],
   "source": [
    "def triseq(n):\n",
    "    s = 0\n",
    "    for i in range(1, n+1):\n",
    "        s += i\n",
    "        # i += 1\n",
    "        yield s\n",
    "\n",
    "for i in triseq(5):\n",
    "    print(i)"
   ]
  },
  {
   "cell_type": "code",
   "execution_count": null,
   "metadata": {},
   "outputs": [],
   "source": [
    "try:\n",
    "    # kuch bhi risky code\n",
    "    a = [1, 2, 3]\n",
    "    print(a[5])  # IndexError aayega\n",
    "except Exception as e:\n",
    "    print(\"Kuch toh galti ho gayi:\", e)\n"
   ]
  },
  {
   "cell_type": "code",
   "execution_count": null,
   "metadata": {},
   "outputs": [],
   "source": [
    "try:\n",
    "    age = int(input(\"Apni age daal: \"))  # agar koi string daal de jaise \"abc\"\n",
    "    print(\"Teri age:\", age)\n",
    "except ValueError:\n",
    "    print(\"Sirf numbers daal bhai, text nahi!\")\n"
   ]
  },
  {
   "cell_type": "code",
   "execution_count": null,
   "metadata": {},
   "outputs": [],
   "source": [
    "try:\n",
    "    with open(\"data.txt\", \"r\") as file:\n",
    "        content = file.read()\n",
    "        print(content)\n",
    "except FileNotFoundError:\n",
    "    print(\"File nahi mili bhai!\")\n"
   ]
  },
  {
   "cell_type": "code",
   "execution_count": null,
   "metadata": {},
   "outputs": [],
   "source": [
    "# Given an array of integers, find the\n",
    "# first non-repeating element.\n",
    "# Example:\n",
    "# Input: [4, 5,1, 2,0, 4,1, 2]\n",
    "# Output: 5"
   ]
  },
  {
   "cell_type": "code",
   "execution_count": null,
   "metadata": {},
   "outputs": [],
   "source": [
    "fd = [4, 5,1, 2,0, 4,1, 2]\n",
    "\n",
    "for i in range(len(fd)):\n",
    "    if fd[i] != fd[i+1]:\n",
    "        print(fd[i +1])\n",
    "        break"
   ]
  },
  {
   "cell_type": "code",
   "execution_count": null,
   "metadata": {},
   "outputs": [],
   "source": [
    "#perfect way\n",
    "fd = [4, 5,1, 2,0, 4,1, 2]\n",
    "\n",
    "for i in fd:\n",
    "    if fd.count(i) ==1:\n",
    "        print(i)\n",
    "        break"
   ]
  },
  {
   "cell_type": "code",
   "execution_count": null,
   "metadata": {},
   "outputs": [],
   "source": [
    "#find the armstrong number\n",
    "ds = 153\n",
    "df = str(ds)\n",
    "gh = list(df)\n",
    "\n",
    "count = 0\n",
    "for i in gh:\n",
    "    vg = int(i) * int(i) *int(i)\n",
    "    count +=vg\n",
    "\n",
    "if count == ds:\n",
    "    print(\"armstrong number\")\n",
    "else:\n",
    "    print(\"not armstrong number\")"
   ]
  },
  {
   "cell_type": "code",
   "execution_count": null,
   "metadata": {},
   "outputs": [],
   "source": [
    "def add (a,f):\n",
    "    return a *b"
   ]
  },
  {
   "cell_type": "code",
   "execution_count": null,
   "metadata": {},
   "outputs": [],
   "source": [
    "df = \"tushar\"\n",
    "\n",
    "rev = \"\"\n",
    "for i in range(len(df)-1,-1,-1):\n",
    "    rev +=df[i]\n",
    "\n",
    "print(rev)"
   ]
  },
  {
   "cell_type": "code",
   "execution_count": null,
   "metadata": {},
   "outputs": [],
   "source": []
  },
  {
   "cell_type": "code",
   "execution_count": null,
   "metadata": {},
   "outputs": [],
   "source": [
    "for i in range(4,-2,-1):\n",
    "    print(i)"
   ]
  },
  {
   "cell_type": "code",
   "execution_count": null,
   "metadata": {},
   "outputs": [],
   "source": []
  }
 ],
 "metadata": {
  "kernelspec": {
   "display_name": "Python 3",
   "language": "python",
   "name": "python3"
  },
  "language_info": {
   "codemirror_mode": {
    "name": "ipython",
    "version": 3
   },
   "file_extension": ".py",
   "mimetype": "text/x-python",
   "name": "python",
   "nbconvert_exporter": "python",
   "pygments_lexer": "ipython3",
   "version": "3.13.2"
  }
 },
 "nbformat": 4,
 "nbformat_minor": 2
}
