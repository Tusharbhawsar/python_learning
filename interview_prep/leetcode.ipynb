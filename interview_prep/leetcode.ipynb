{
 "cells": [
  {
   "cell_type": "code",
   "execution_count": null,
   "id": "fc15046e",
   "metadata": {},
   "outputs": [],
   "source": [
    "# Given an array of integers nums and an integer target, return indices of the two numbers such that they add up to target.\n",
    "# You may assume that each input would have exactly one solution, and you may not use the same element twice.\n",
    "# You can return the answer in any order.\n",
    "# Example 1:\n",
    "\n",
    "# Input: nums = [2,7,11,15], target = 9\n",
    "# Output: [0,1]\n",
    "# Explanation: Because nums[0] + nums[1] == 9, we return [0, 1].\n",
    "# Example 2:\n",
    "\n",
    "# Input: nums = [3,2,4], target = 6\n",
    "# Output: [1,2]\n",
    "# Example 3:\n",
    "\n",
    "# Input: nums = [3,3], target = 6\n",
    "# Output: [0,1]"
   ]
  },
  {
   "cell_type": "code",
   "execution_count": null,
   "id": "7e4a6ed6",
   "metadata": {},
   "outputs": [],
   "source": [
    "class Solution:\n",
    "    def twoSum(self, nums: List[int], target: int) -> List[int]:\n",
    "\n",
    "        pair = {}\n",
    "        # for ind,value in enumerate(nums):\n",
    "        #     check = target - value\n",
    "        #     if check in pair:\n",
    "        #         return [pair[check],ind]\n",
    "        #     pair[value] = ind\n",
    "        # return []\n",
    "\n",
    "        for i in range(len(nums)):\n",
    "            check = target - nums[i]\n",
    "            if check in pair:\n",
    "                return [pair[check],i]\n",
    "            pair[nums[i]] = i\n",
    "        return []\n"
   ]
  },
  {
   "cell_type": "code",
   "execution_count": 8,
   "id": "52a197ea",
   "metadata": {},
   "outputs": [
    {
     "name": "stdout",
     "output_type": "stream",
     "text": [
      "[0, 3]\n"
     ]
    }
   ],
   "source": [
    "nums = [2,11,15,7]\n",
    "target = 9\n",
    "# Output: [0,1]\n",
    "\n",
    "# nums = [3,2,4]\n",
    "# target = 6\n",
    "# Output: [1,2] \n",
    "\n",
    "pair = {}\n",
    "for i in range(len(nums)):\n",
    "    complemet = target - nums[i]\n",
    "    # print(complemet)\n",
    "    if complemet in pair:\n",
    "        print([pair[complemet], i])\n",
    "        break\n",
    "    else:\n",
    "        pair[nums[i]] = i \n",
    "# print(pair)\n"
   ]
  },
  {
   "cell_type": "code",
   "execution_count": null,
   "id": "6a322f97",
   "metadata": {},
   "outputs": [],
   "source": [
    "hy = {2: 0}\n",
    "hy[2]"
   ]
  },
  {
   "cell_type": "code",
   "execution_count": 1,
   "id": "07f3d4c7",
   "metadata": {},
   "outputs": [
    {
     "data": {
      "text/plain": [
       "[0, 3]"
      ]
     },
     "execution_count": 1,
     "metadata": {},
     "output_type": "execute_result"
    }
   ],
   "source": [
    "class Solution(object):\n",
    "    def twoSum(self, nums, target):\n",
    "      numMap = {}\n",
    "      for i, num in enumerate(nums):\n",
    "          complement = target - num\n",
    "          if complement in numMap:\n",
    "            return [numMap[complement], i]\n",
    "          numMap[num] = i\n",
    "      return []\n",
    "    \n",
    "sd = Solution()\n",
    "nums = [2,11,15,7]\n",
    "target = 9\n",
    "sd.twoSum(nums,target)"
   ]
  },
  {
   "cell_type": "code",
   "execution_count": 10,
   "id": "d5bf939e",
   "metadata": {},
   "outputs": [
    {
     "data": {
      "text/plain": [
       "[1, 2]"
      ]
     },
     "execution_count": 10,
     "metadata": {},
     "output_type": "execute_result"
    }
   ],
   "source": [
    "def findsum(n , t):\n",
    "    fh = {}\n",
    "    for i in range(len(n)):\n",
    "        gh = target -n[i]\n",
    "        # print(gh)\n",
    "        if gh in fh:\n",
    "            return [fh[gh],i]\n",
    "        fh[n[i]] = i\n",
    "    return []\n",
    "\n",
    "nums = [3,2,4]\n",
    "target = 6\n",
    "findsum(nums,target)"
   ]
  },
  {
   "cell_type": "code",
   "execution_count": null,
   "id": "d89f37ac",
   "metadata": {},
   "outputs": [],
   "source": [
    "# Find Two Numbers that Sum to Target (Brute Force Approach)\n",
    "# Brute force ka matlab hota hai sabhi possible combinations ya options ko try karna jab tak solution na mil jaaye. \n",
    "# Python mein brute force approach mostly nested loops ya recursion ke through implement ki jaati hai.\n",
    "# Ek simple brute force example dekhte hain — 2 numbers ka sum jo kisi target ke equal ho (classic problem):"
   ]
  },
  {
   "cell_type": "code",
   "execution_count": 13,
   "id": "c1b11b6b",
   "metadata": {},
   "outputs": [
    {
     "name": "stdout",
     "output_type": "stream",
     "text": [
      "1\n",
      "2\n",
      "3\n",
      "0 3\n",
      "2\n",
      "3\n",
      "3\n"
     ]
    }
   ],
   "source": [
    "# nums = [3,2,4]\n",
    "# target = 6\n",
    "nums = [2,11,15,7]\n",
    "target = 9\n",
    "\n",
    "for i in range(len(nums)):\n",
    "    for j in range(i + 1 ,len(nums)):\n",
    "        print(j)\n",
    "        if nums[i] + nums[j] ==target:\n",
    "            print(i,j)\n",
    "        "
   ]
  },
  {
   "cell_type": "code",
   "execution_count": 12,
   "id": "36ac44b8",
   "metadata": {},
   "outputs": [
    {
     "name": "stdout",
     "output_type": "stream",
     "text": [
      "2 4\n"
     ]
    }
   ],
   "source": [
    "nums = [3,2,4]\n",
    "target = 6\n",
    "\n",
    "check = {}\n",
    "for ind ,value in enumerate(nums):\n",
    "    same = target - value\n",
    "    if same in check:\n",
    "        print(same,value)\n",
    "    check[value] = ind\n",
    "# print(check)"
   ]
  },
  {
   "cell_type": "code",
   "execution_count": 16,
   "id": "4cef7df4",
   "metadata": {},
   "outputs": [
    {
     "name": "stdout",
     "output_type": "stream",
     "text": [
      "0 3\n"
     ]
    }
   ],
   "source": [
    "# nums = [3,2,4]\n",
    "# target = 6\n",
    "nums = [2,11,15,7]\n",
    "target = 9\n",
    "\n",
    "tar = {}\n",
    "for i in range(len(nums)):\n",
    "    test = target - nums[i]\n",
    "    if test in tar:\n",
    "        print(tar[complemet],i)\n",
    "    tar[nums[i]]=i\n"
   ]
  },
  {
   "cell_type": "code",
   "execution_count": null,
   "id": "f7e78a4b",
   "metadata": {},
   "outputs": [],
   "source": []
  }
 ],
 "metadata": {
  "kernelspec": {
   "display_name": "Python 3",
   "language": "python",
   "name": "python3"
  },
  "language_info": {
   "codemirror_mode": {
    "name": "ipython",
    "version": 3
   },
   "file_extension": ".py",
   "mimetype": "text/x-python",
   "name": "python",
   "nbconvert_exporter": "python",
   "pygments_lexer": "ipython3",
   "version": "3.13.2"
  }
 },
 "nbformat": 4,
 "nbformat_minor": 5
}
