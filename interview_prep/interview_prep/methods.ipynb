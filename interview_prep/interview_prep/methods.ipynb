{
 "cells": [
  {
   "cell_type": "code",
   "execution_count": null,
   "id": "15ab346c",
   "metadata": {},
   "outputs": [],
   "source": [
    "# list methods\n",
    "# append()\tAdds an element at the end of the list\n",
    "# clear()\tRemoves all the elements from the list\n",
    "# copy()\tReturns a copy of the list\n",
    "# count()\tReturns the number of elements with the specified value\n",
    "# extend()\tAdd the elements of a list (or any iterable), to the end of the current list\n",
    "# index()\tReturns the index of the first element with the specified value\n",
    "# insert()\tAdds an element at the specified position\n",
    "# pop()\tRemoves the element at the specified position\n",
    "# remove()\tRemoves the first item with the specified value\n",
    "# reverse()\tReverses the order of the list\n",
    "# sort()\tSorts the list"
   ]
  },
  {
   "cell_type": "code",
   "execution_count": null,
   "id": "d0e764f7",
   "metadata": {},
   "outputs": [
    {
     "name": "stdout",
     "output_type": "stream",
     "text": [
      "None\n"
     ]
    }
   ],
   "source": [
    "#clear\n",
    "demo_list = [1,3,4,6,7,7,8,9]\n",
    "fruits = [\"apple\", \"banana\", \"cherry\"]\n",
    "\n",
    "\n",
    "demo_list = demo_list.clear()\n",
    "print(demo_list)\n"
   ]
  },
  {
   "cell_type": "code",
   "execution_count": 6,
   "id": "c0ae1e77",
   "metadata": {},
   "outputs": [
    {
     "name": "stdout",
     "output_type": "stream",
     "text": [
      "[1, 3, 4, 6, 7, 7, 8, 9]\n"
     ]
    }
   ],
   "source": [
    "#copy\n",
    "demo_list = [1,3,4,6,7,7,8,9]\n",
    "\n",
    "dm = demo_list.copy()\n",
    "print(dm)"
   ]
  },
  {
   "cell_type": "code",
   "execution_count": 12,
   "id": "5b06f18c",
   "metadata": {},
   "outputs": [
    {
     "data": {
      "text/plain": [
       "2"
      ]
     },
     "execution_count": 12,
     "metadata": {},
     "output_type": "execute_result"
    }
   ],
   "source": [
    "#count\n",
    "demo_list = [1,3,4,6,7,7,8,9]\n",
    "\n",
    "dr = demo_list.count(7)\n",
    "dr"
   ]
  },
  {
   "cell_type": "code",
   "execution_count": 62,
   "id": "b02701e2",
   "metadata": {},
   "outputs": [
    {
     "data": {
      "text/plain": [
       "1"
      ]
     },
     "execution_count": 62,
     "metadata": {},
     "output_type": "execute_result"
    }
   ],
   "source": [
    "fruits = ['apple', 'banana', 'cherry']\n",
    "\n",
    "x = fruits.count(\"cherry\")\n",
    "x"
   ]
  },
  {
   "cell_type": "code",
   "execution_count": null,
   "id": "466218a4",
   "metadata": {},
   "outputs": [
    {
     "name": "stdout",
     "output_type": "stream",
     "text": [
      "None\n"
     ]
    }
   ],
   "source": [
    "# extend()\n",
    "demo_list = [1,3,4,6,7,7,8,9]\n",
    "fruits = [\"apple\", \"banana\", \"cherry\"]\n",
    "\n",
    "hu = demo_list.extend(fruits) #extend kuch return nhi karta he,hu mein None store hoga kyunki extend() kuch return nahi karta.\n",
    "print(hu)"
   ]
  },
  {
   "cell_type": "code",
   "execution_count": 16,
   "id": "8b2068bb",
   "metadata": {},
   "outputs": [
    {
     "data": {
      "text/plain": [
       "[1, 3, 4, 6, 7, 7, 8, 9, 'apple', 'banana', 'cherry']"
      ]
     },
     "execution_count": 16,
     "metadata": {},
     "output_type": "execute_result"
    }
   ],
   "source": [
    "demo_list = [1,3,4,6,7,7,8,9]\n",
    "fruits = [\"apple\", \"banana\", \"cherry\"]\n",
    "\n",
    "demo_list.extend(fruits)\n",
    "demo_list"
   ]
  },
  {
   "cell_type": "code",
   "execution_count": 22,
   "id": "ce2cb67a",
   "metadata": {},
   "outputs": [
    {
     "data": {
      "text/plain": [
       "[1, 2, 3, 4, 5]"
      ]
     },
     "execution_count": 22,
     "metadata": {},
     "output_type": "execute_result"
    }
   ],
   "source": [
    "# Add two list from the nested list \n",
    "a = [[1, 2, 3], [4, 5]]\n",
    "\n",
    "df = a[0]\n",
    "df1 = a[1]\n",
    "df + df1\n",
    "\n",
    "df.extend(df1)\n",
    "df"
   ]
  },
  {
   "cell_type": "code",
   "execution_count": null,
   "id": "696f3b55",
   "metadata": {},
   "outputs": [],
   "source": [
    "# ❌ Common Confusion: append() vs extend()\n",
    "x = [1, 2]\n",
    "x.append([3, 4])\n",
    "print(x)\n",
    "# Output: [1, 2, [3, 4]]  ← Poori list ek element ban gayi\n",
    "\n",
    "x = [1, 2]\n",
    "x.extend([3, 4])\n",
    "print(x)\n",
    "# Output: [1, 2, 3, 4]  ← Har element separately add hua\n"
   ]
  },
  {
   "cell_type": "code",
   "execution_count": null,
   "id": "b0adfa72",
   "metadata": {},
   "outputs": [
    {
     "name": "stdout",
     "output_type": "stream",
     "text": [
      "[1, 2, [5, 6]]\n",
      "[2, 3, 7, 8]\n",
      "[2, 3, 8, 7]\n",
      "['apple', 'banana', 'cherry', 1, 4, 5, 9]\n"
     ]
    }
   ],
   "source": [
    "b = [1,2]\n",
    "b.append([5,6])\n",
    "print(b)\n",
    "\n",
    "c = [2,3]\n",
    "c.extend([7,8])\n",
    "print(c)\n",
    "\n",
    "d = [2,3]\n",
    "d.extend({7,8})\n",
    "print(d)\n",
    "\n",
    "fruits = ['apple', 'banana', 'cherry']\n",
    "\n",
    "points = (1, 4, 5, 9)\n",
    "\n",
    "fruits.extend(points)\n",
    "print(fruits)                      #it always give you final result in list wheather give tuple,set..."
   ]
  },
  {
   "cell_type": "code",
   "execution_count": null,
   "id": "a1f14b99",
   "metadata": {},
   "outputs": [],
   "source": [
    "# index()\tReturns the index of the first element with the specified value"
   ]
  },
  {
   "cell_type": "code",
   "execution_count": 37,
   "id": "b9d6a06a",
   "metadata": {},
   "outputs": [
    {
     "data": {
      "text/plain": [
       "6"
      ]
     },
     "execution_count": 37,
     "metadata": {},
     "output_type": "execute_result"
    }
   ],
   "source": [
    "demo_list = [1,3,4,6,7,7,8,9]\n",
    "demo_list.index(8)\n"
   ]
  },
  {
   "cell_type": "code",
   "execution_count": null,
   "id": "3d772070",
   "metadata": {},
   "outputs": [],
   "source": [
    "# insert()\tAdds an element at the specified position"
   ]
  },
  {
   "cell_type": "code",
   "execution_count": 43,
   "id": "65a8cb25",
   "metadata": {},
   "outputs": [
    {
     "data": {
      "text/plain": [
       "[1, ['apple', 'banana', 'cherry'], 3, 4, 6, 7, 7, 8, 9]"
      ]
     },
     "execution_count": 43,
     "metadata": {},
     "output_type": "execute_result"
    }
   ],
   "source": [
    "demo_list = [1,3,4,6,7,7,8,9]\n",
    "fruits = [\"apple\", \"banana\", \"cherry\"] #insert also add element as it is, on specific indexing/position\n",
    "demo_list.insert(1,fruits)\n",
    "demo_list"
   ]
  },
  {
   "cell_type": "code",
   "execution_count": null,
   "id": "67870ea4",
   "metadata": {},
   "outputs": [],
   "source": [
    "# pop()\tRemoves the element at the specified position/indexing"
   ]
  },
  {
   "cell_type": "code",
   "execution_count": null,
   "id": "ec7e8b5b",
   "metadata": {},
   "outputs": [
    {
     "data": {
      "text/plain": [
       "[1, 4, 6, 7, 7, 8, 9]"
      ]
     },
     "execution_count": 46,
     "metadata": {},
     "output_type": "execute_result"
    }
   ],
   "source": [
    "demo_list = [1,3,4,6,7,7,8,9]\n",
    "demo_list.pop(1)    #remove the element from the incdexing\n",
    "demo_list"
   ]
  },
  {
   "cell_type": "code",
   "execution_count": 47,
   "id": "7f078af8",
   "metadata": {},
   "outputs": [],
   "source": [
    "# remove()\tRemoves the first item with the specified value"
   ]
  },
  {
   "cell_type": "code",
   "execution_count": null,
   "id": "5b14d6ae",
   "metadata": {},
   "outputs": [
    {
     "data": {
      "text/plain": [
       "[1, 3, 4, 6, 7, 8, 9]"
      ]
     },
     "execution_count": 54,
     "metadata": {},
     "output_type": "execute_result"
    }
   ],
   "source": [
    "demo_list = [1,3,4,6,7,7,8,9]\n",
    "demo_list.remove(7)      #remove the first element with sepecific value but not remove the duplicate element twice it remove only once \n",
    "demo_list"
   ]
  },
  {
   "cell_type": "code",
   "execution_count": 56,
   "id": "60336f0c",
   "metadata": {},
   "outputs": [
    {
     "data": {
      "text/plain": [
       "[9, 8, 7, 7, 6, 4, 3, 1]"
      ]
     },
     "execution_count": 56,
     "metadata": {},
     "output_type": "execute_result"
    }
   ],
   "source": [
    "# reverse()\tReverses the order of the list\n",
    "demo_list = [1,3,4,6,7,7,8,9]\n",
    "demo_list.reverse()\n",
    "demo_list"
   ]
  },
  {
   "cell_type": "code",
   "execution_count": 59,
   "id": "e272a070",
   "metadata": {},
   "outputs": [
    {
     "data": {
      "text/plain": [
       "[1, 3, 4, 6, 6, 7, 7, 8, 8, 9]"
      ]
     },
     "execution_count": 59,
     "metadata": {},
     "output_type": "execute_result"
    }
   ],
   "source": [
    "# sort()\tSorts the list\n",
    "demo_list = [1,3,6,8,4,6,7,7,8,9]\n",
    "demo_list.sort()\n",
    "demo_list"
   ]
  },
  {
   "cell_type": "code",
   "execution_count": null,
   "id": "ef3750f7",
   "metadata": {},
   "outputs": [],
   "source": []
  }
 ],
 "metadata": {
  "kernelspec": {
   "display_name": "Python 3",
   "language": "python",
   "name": "python3"
  },
  "language_info": {
   "codemirror_mode": {
    "name": "ipython",
    "version": 3
   },
   "file_extension": ".py",
   "mimetype": "text/x-python",
   "name": "python",
   "nbconvert_exporter": "python",
   "pygments_lexer": "ipython3",
   "version": "3.13.2"
  }
 },
 "nbformat": 4,
 "nbformat_minor": 5
}
