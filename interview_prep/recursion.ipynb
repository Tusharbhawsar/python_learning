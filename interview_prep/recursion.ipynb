{
 "cells": [
  {
   "cell_type": "code",
   "execution_count": 2,
   "id": "162c9215",
   "metadata": {},
   "outputs": [
    {
     "name": "stdout",
     "output_type": "stream",
     "text": [
      "5\n",
      "4\n",
      "3\n",
      "2\n",
      "1\n"
     ]
    }
   ],
   "source": [
    "def show(n):\n",
    "    if n ==0:\n",
    "        return\n",
    "    print(n)\n",
    "    show(n -1)\n",
    "show(5)"
   ]
  },
  {
   "cell_type": "code",
   "execution_count": 32,
   "id": "027a1d74",
   "metadata": {},
   "outputs": [
    {
     "data": {
      "text/plain": [
       "120"
      ]
     },
     "execution_count": 32,
     "metadata": {},
     "output_type": "execute_result"
    }
   ],
   "source": [
    "def multiple(n):\n",
    "    if n ==0:\n",
    "        return 1\n",
    "    # print(n *n)\n",
    "    return multiple(n-1) *n\n",
    "multiple(5)"
   ]
  },
  {
   "cell_type": "code",
   "execution_count": null,
   "id": "b16101b6",
   "metadata": {},
   "outputs": [
    {
     "data": {
      "text/plain": [
       "24"
      ]
     },
     "execution_count": 14,
     "metadata": {},
     "output_type": "execute_result"
    }
   ],
   "source": [
    "def mul(n):\n",
    "    if n ==0:\n",
    "        return 1\n",
    "    else:\n",
    "        return n * mul(n-1)\n",
    "mul(4) \n",
    "\n",
    "# return 4* factorial(4-1) 4*3\n",
    "# return 3* factorial(3-1) 4*3*2 \n",
    "# return 2* factorial(2-1) 4*3*2*1\n",
    "# return 1* factoriall-1) 4*3*2*1    #final output\n",
    "# factorial(0) 4*3*2*1*1"
   ]
  },
  {
   "cell_type": "code",
   "execution_count": 27,
   "id": "eb309b7f",
   "metadata": {},
   "outputs": [
    {
     "data": {
      "text/plain": [
       "15"
      ]
     },
     "execution_count": 27,
     "metadata": {},
     "output_type": "execute_result"
    }
   ],
   "source": [
    "# Write a recursive function to calculate the sum of first n natural numbers.\n",
    "def fact(n):\n",
    "    if n ==0:\n",
    "        return 0\n",
    "    return fact(n-1) + n\n",
    "    \n",
    "fact(5)"
   ]
  },
  {
   "cell_type": "code",
   "execution_count": 7,
   "id": "83db778f",
   "metadata": {},
   "outputs": [
    {
     "name": "stdout",
     "output_type": "stream",
     "text": [
      "0 1 1 2 3 5 "
     ]
    }
   ],
   "source": [
    "#fibonachi recurrsion\n",
    "# 5\n",
    "# 0,1,1,2,3,5,8\n",
    "\n",
    "def fib(n):\n",
    "    if n == 0:\n",
    "        return 0\n",
    "    elif n ==1:\n",
    "        return 1\n",
    "    elif n== 2:\n",
    "        return 1\n",
    "    else: \n",
    "         return  fib(n-1) + fib(n -2)\n",
    "\n",
    "n =6    \n",
    "for i in range(n):\n",
    "    print(fib(i),end=\" \")"
   ]
  },
  {
   "cell_type": "code",
   "execution_count": 8,
   "id": "ddc7ad1e",
   "metadata": {},
   "outputs": [
    {
     "name": "stdout",
     "output_type": "stream",
     "text": [
      "0 1 1 2 3 "
     ]
    }
   ],
   "source": [
    "def fibonacci_iterative(n):\n",
    "    a = 0\n",
    "    b = 1\n",
    "    for i in range(n):\n",
    "        print(a, end=' ')\n",
    "        c = a + b\n",
    "        a = b\n",
    "        b = c\n",
    "fibonacci_iterative(5)"
   ]
  },
  {
   "cell_type": "code",
   "execution_count": 12,
   "id": "cd7360d7",
   "metadata": {},
   "outputs": [
    {
     "name": "stdout",
     "output_type": "stream",
     "text": [
      "0 1 1 2 3 "
     ]
    }
   ],
   "source": [
    "def hgh(h):\n",
    "    a= 0\n",
    "    b = 1\n",
    "    for i in range(h):\n",
    "        print(a, end= \" \")\n",
    "        c = a + b\n",
    "        a = b\n",
    "        b = c\n",
    "    \n",
    "hgh(5)"
   ]
  },
  {
   "cell_type": "code",
   "execution_count": null,
   "id": "3b0980d5",
   "metadata": {},
   "outputs": [],
   "source": []
  }
 ],
 "metadata": {
  "kernelspec": {
   "display_name": "Python 3",
   "language": "python",
   "name": "python3"
  },
  "language_info": {
   "codemirror_mode": {
    "name": "ipython",
    "version": 3
   },
   "file_extension": ".py",
   "mimetype": "text/x-python",
   "name": "python",
   "nbconvert_exporter": "python",
   "pygments_lexer": "ipython3",
   "version": "3.13.2"
  }
 },
 "nbformat": 4,
 "nbformat_minor": 5
}
