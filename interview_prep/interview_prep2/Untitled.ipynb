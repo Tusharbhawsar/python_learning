{
 "cells": [
  {
   "cell_type": "markdown",
   "id": "7e43c4a1",
   "metadata": {},
   "source": [
    "Explain the difference between is and == in Python.\n"
   ]
  },
  {
   "cell_type": "code",
   "execution_count": 8,
   "id": "1194fc23",
   "metadata": {},
   "outputs": [
    {
     "name": "stdout",
     "output_type": "stream",
     "text": [
      "True\n",
      "False\n"
     ]
    }
   ],
   "source": [
    "a = [1, 2, 3]\n",
    "b = [1, 2, 3]\n",
    "print(a == b)  # True, because the values are the same\n",
    "\n",
    "a = [1, 2, 3]\n",
    "b = [1, 2, 3]\n",
    "print(a is b)  # False, because they are different objects in memory\n"
   ]
  },
  {
   "cell_type": "code",
   "execution_count": 9,
   "id": "b6559ad6",
   "metadata": {},
   "outputs": [
    {
     "name": "stdout",
     "output_type": "stream",
     "text": [
      "True\n",
      "True\n",
      "False\n"
     ]
    }
   ],
   "source": [
    "x = 100\n",
    "y = 100\n",
    "print(x is y)  # True (small integer caching)\n",
    "\n",
    "x = \"hello\"\n",
    "y = \"hello\"\n",
    "print(x is y)  # True (string interning)\n",
    "\n",
    "x = 1000\n",
    "y = 1000\n",
    "print(x is y)  # False (big integers are not cached)\n"
   ]
  },
  {
   "cell_type": "code",
   "execution_count": 10,
   "id": "368f14dd",
   "metadata": {},
   "outputs": [
    {
     "name": "stdout",
     "output_type": "stream",
     "text": [
      "False\n"
     ]
    }
   ],
   "source": [
    "a = [6,4,\"34\"]\n",
    "b = [6,4,\"34\"]\n",
    "print(a is b)"
   ]
  },
  {
   "cell_type": "markdown",
   "id": "04b73ef7",
   "metadata": {},
   "source": [
    "What are Python’s built-in data types?"
   ]
  },
  {
   "cell_type": "code",
   "execution_count": 13,
   "id": "c0f792ba",
   "metadata": {},
   "outputs": [],
   "source": [
    "# Python me 7 main categories ke built-in data types hote hain:\n",
    "\n",
    "# ✔ Numeric – int, float, complex\n",
    "# ✔ Sequence – list, tuple, range\n",
    "# ✔ Text – str\n",
    "# ✔ Set – set, frozenset\n",
    "# ✔ Mapping – dict\n",
    "# ✔ Boolean – bool\n",
    "# ✔ Binary – bytes, bytearray, memoryview\n"
   ]
  },
  {
   "cell_type": "code",
   "execution_count": null,
   "id": "cd1371c7",
   "metadata": {},
   "outputs": [],
   "source": [
    "#  1️⃣ Numeric Types (Numbers se related)\n",
    "#  ✅ int – Integer values (whole numbers)\n",
    "#  ✅ float – Decimal numbers\n",
    "#  ✅ complex – Complex numbers (like 3+4j)\n",
    "\n",
    "# 2️⃣ Sequence Types (Ordered collection of items)\n",
    "# ✅ list – Mutable (changeable) ordered collection\n",
    "# ✅ tuple – Immutable (unchangeable) ordered collection\n",
    "# ✅ range – Sequence of numbers\n",
    "\n",
    "# 3️⃣ Text Type (Strings)\n",
    "# ✅ str – Sequence of characters\n",
    "\n",
    "# 4️⃣ Set Types (Unique items ka collection)\n",
    "# ✅ set – Unordered, unique values collection\n",
    "# ✅ frozenset – Immutable set (change nahi kar sakte)\n",
    "\n",
    "# 5️⃣ Mapping Type (Key-Value pair)\n",
    "# ✅ dict – Dictionary (key-value pairs)\n",
    "\n",
    "# 6️⃣ Boolean Type (True/False values)\n",
    "# ✅ bool – True or False\n",
    "\n",
    "# 7️⃣ Binary Types (Byte-level data)\n",
    "# ✅ bytes – Immutable sequence of bytes\n",
    "# ✅ bytearray – Mutable sequence of bytes\n",
    "# ✅ memoryview – Memory-efficient view of byte data\n",
    "\n",
    "# Conclusion:\n",
    "# Python me 7 main categories ke built-in data types hote hain:\n",
    "# ✔ Numeric – int, float, complex\n",
    "# ✔ Sequence – list, tuple, range\n",
    "# ✔ Text – str\n",
    "# ✔ Set – set, frozenset\n",
    "# ✔ Mapping – dict\n",
    "# ✔ Boolean – bool\n",
    "# ✔ Binary – bytes, bytearray, memoryview\n",
    "\n",
    "# Yeh saare types Python me kaafi commonly use hote hain, aur unko samajhna important hai! 🚀"
   ]
  },
  {
   "cell_type": "code",
   "execution_count": 1,
   "id": "28055433",
   "metadata": {},
   "outputs": [],
   "source": [
    "# list\t    ✅ Yes\n",
    "# dict\t    ✅ Yes\n",
    "# set\t        ✅ Yes\n",
    "# bytearray\t✅ Yes\n",
    "# int\t        ❌ No\n",
    "# float\t    ❌ No\n",
    "# complex\t    ❌ No\n",
    "# str\t        ❌ No\n",
    "# tuple\t    ❌ No\n",
    "# frozenset\t❌ No\n",
    "# bytes\t    ❌ No"
   ]
  },
  {
   "cell_type": "code",
   "execution_count": 2,
   "id": "f9b40140",
   "metadata": {},
   "outputs": [
    {
     "name": "stdout",
     "output_type": "stream",
     "text": [
      "{1, 2, 3, 4}\n"
     ]
    }
   ],
   "source": [
    "s = {1, 2, 3}\n",
    "s.add(4)\n",
    "print(s)    "
   ]
  },
  {
   "cell_type": "code",
   "execution_count": 7,
   "id": "9a4e61f8",
   "metadata": {},
   "outputs": [
    {
     "name": "stdout",
     "output_type": "stream",
     "text": [
      "1\n",
      "2\n",
      "3\n"
     ]
    }
   ],
   "source": [
    "s = {1, 2, 3}\n",
    "\n",
    "for i in s:\n",
    "    print(i)"
   ]
  },
  {
   "cell_type": "code",
   "execution_count": null,
   "id": "d5f90df2",
   "metadata": {},
   "outputs": [
    {
     "data": {
      "text/plain": [
       "27"
      ]
     },
     "execution_count": 9,
     "metadata": {},
     "output_type": "execute_result"
    }
   ],
   "source": [
    "# What are *args and **kwargs in Python?\n",
    "# Function jitne chahe arguments accept kar sakta hai.\n",
    "# ✅ Agar koi argument na ho, to args empty tuple hoga.\n",
    "\n",
    "def tot(*args):\n",
    "    tu = sum(args)\n",
    "    return tu\n",
    "\n",
    "tot(4,4,8,7,4)"
   ]
  },
  {
   "cell_type": "code",
   "execution_count": 4,
   "id": "91db58b2",
   "metadata": {},
   "outputs": [
    {
     "name": "stdout",
     "output_type": "stream",
     "text": [
      "name:tushar\n",
      "surname:bhawsar\n",
      "citizen:indian\n"
     ]
    }
   ],
   "source": [
    "# **kwargs (Keyword Arguments)\n",
    "# ✅ **kwargs ek function me multiple keyword arguments lene ke liye use hota hai. Yeh arguments dictionary ke form me store hote hain.\n",
    "\n",
    "def dff(**kwargs):\n",
    "\n",
    "    for item, value in kwargs.items():\n",
    "        print(f\"{item}:{value}\")\n",
    "dff(name = \"tushar\",surname = \"bhawsar\",citizen =\"indian\")"
   ]
  },
  {
   "cell_type": "code",
   "execution_count": null,
   "id": "e8e81348",
   "metadata": {},
   "outputs": [
    {
     "name": "stdout",
     "output_type": "stream",
     "text": [
      "{'Tushar': 'name', 25: 'age', 'Mumbai': 'city'}\n"
     ]
    }
   ],
   "source": [
    "#change key to dict\n",
    "gh = {'name': 'Tushar', 'age': 25, 'city': 'Mumbai'}\n",
    "\n",
    "new = {}\n",
    "for key,val in gh.items():\n",
    "    new[val]=key\n",
    "print(new)"
   ]
  },
  {
   "cell_type": "code",
   "execution_count": 3,
   "id": "35d939bb",
   "metadata": {},
   "outputs": [
    {
     "name": "stdout",
     "output_type": "stream",
     "text": [
      "[(5, 7), (4, 8), (3, 9), (2, 10), (6, 6), (5, 7), (4, 8), (3, 9), (2, 10), (10, 2), (9, 3), (8, 4), (7, 5)]\n"
     ]
    }
   ],
   "source": [
    "# 01.  Problem: Finding pairs that sum to a target\n",
    "\n",
    "arr = [1, 2, 3, 4, 5, 6, 7, 8, 9, 10, 6, 7, 8, 9, 10, 1, 2, 3, 4, 5]\n",
    "target_sum = 12\n",
    "\n",
    "seen = set()\n",
    "pairs = []\n",
    "\n",
    "for num in arr:\n",
    "    complement = target_sum - num\n",
    "    if complement in seen:\n",
    "        pairs.append((complement, num))\n",
    "    seen.add(num)\n",
    "\n",
    "print(pairs)\n",
    "\n"
   ]
  },
  {
   "cell_type": "code",
   "execution_count": 7,
   "id": "b96fac93",
   "metadata": {},
   "outputs": [
    {
     "name": "stdout",
     "output_type": "stream",
     "text": [
      "[[5, 7], [4, 8], [3, 9], [2, 10], [6, 6], [5, 7], [4, 8], [3, 9], [2, 10], [10, 2], [9, 3], [8, 4], [7, 5]]\n"
     ]
    }
   ],
   "source": [
    "#my way\n",
    "arr = [1, 2, 3, 4, 5, 6, 7, 8, 9, 10, 6, 7, 8, 9, 10, 1, 2, 3, 4, 5]\n",
    "target_sum = 12\n",
    "\n",
    "see = []\n",
    "pair = []\n",
    "\n",
    "for i in arr:\n",
    "    code = target_sum - i\n",
    "    if code in see:\n",
    "        pair.append([code,i])\n",
    "    see.append(i)\n",
    "print(pair)\n"
   ]
  },
  {
   "cell_type": "code",
   "execution_count": 4,
   "id": "2af7d0ac",
   "metadata": {},
   "outputs": [
    {
     "name": "stdout",
     "output_type": "stream",
     "text": [
      "[[5, 7], [4, 8], [3, 9], [2, 10], [6, 6], [5, 7], [4, 8], [3, 9], [2, 10], [10, 2], [9, 3], [8, 4], [7, 5]]\n"
     ]
    }
   ],
   "source": [
    "arrr = [1, 2, 3, 4, 5, 6, 7, 8, 9, 10, 6, 7, 8, 9, 10, 1, 2, 3, 4, 5]\n",
    "target_summ = 12\n",
    "\n",
    "lisr = []\n",
    "pattern = []\n",
    "\n",
    "for i in arrr:\n",
    "    check = target_summ - i\n",
    "    if check in lisr:\n",
    "        pattern.append([check,i])\n",
    "    lisr.append(i)\n",
    "\n",
    "print(pattern)\n",
    "\n",
    "\n"
   ]
  },
  {
   "cell_type": "code",
   "execution_count": null,
   "id": "ff9dbbfb",
   "metadata": {},
   "outputs": [
    {
     "name": "stdout",
     "output_type": "stream",
     "text": [
      "[[2, 10], [3, 9], [4, 8], [5, 7], [6, 6], [7, 5], [8, 4], [9, 3], [10, 2], [7, 5], [8, 4], [9, 3], [10, 2]]\n"
     ]
    }
   ],
   "source": [
    "arrr = [1, 2, 3, 4, 5, 6, 7, 8, 9, 10, 6, 7, 8, 9, 10, 1, 2, 3, 4, 5]\n",
    "target_summ = 12\n",
    "\n",
    "ptrn = []\n",
    "for i in range(len(arrr)):\n",
    "    for j in range(i +1 ,len(arrr)):\n",
    "        if arrr[i] + arrr[j] == target_summ:\n",
    "            ptrn.append([arrr[i],arrr[j]]) \n",
    "            \n",
    "            break\n",
    "print(ptrn)"
   ]
  },
  {
   "cell_type": "code",
   "execution_count": null,
   "id": "24d0be69",
   "metadata": {},
   "outputs": [],
   "source": [
    "# 02. custom sort \n",
    "\n",
    "# input = [5, 12, 3, 8, 9, 4, 2, 6, 7]\n",
    "\n",
    "# output = [2, 4, 6, 8, 12, 9, 7, 5, 3]\n",
    "even_numbers = sorted([num for num in arr if num % 2 == 0])  # Ascending sort\n",
    "odd_numbers = sorted([num for num in arr if num % 2 != 0], reverse=True)  # Descending sort\n",
    "\n",
    "custom_sorted = even_numbers + odd_numbers\n",
    "print(custom_sorted)"
   ]
  },
  {
   "cell_type": "code",
   "execution_count": 4,
   "id": "cc36a9bd",
   "metadata": {},
   "outputs": [
    {
     "data": {
      "text/plain": [
       "[2, 4, 6, 8, 12, 9, 7, 5, 3]"
      ]
     },
     "execution_count": 4,
     "metadata": {},
     "output_type": "execute_result"
    }
   ],
   "source": [
    "# 02. custom sort \n",
    "\n",
    "input = [5, 12, 3, 8, 9, 4, 2, 6, 7]\n",
    "\n",
    "output = [2, 4, 6, 8, 12, 9, 7, 5, 3]\n",
    "\n",
    "even = []\n",
    "odd = []\n",
    "\n",
    "for i , j in zip(input,output):\n",
    "    if i % 2 ==0:\n",
    "        even.append(i)\n",
    "    if j % 2 ==1:\n",
    "        odd.append(j)\n",
    "    \n",
    "rev_evn = sorted(even)\n",
    "\n",
    "# print(even)\n",
    "# print(rev_evn)\n",
    "# print(odd)\n",
    "\n",
    "final = rev_evn + odd\n",
    "final"
   ]
  },
  {
   "cell_type": "code",
   "execution_count": null,
   "id": "1e061654",
   "metadata": {},
   "outputs": [],
   "source": []
  }
 ],
 "metadata": {
  "kernelspec": {
   "display_name": "Python 3",
   "language": "python",
   "name": "python3"
  },
  "language_info": {
   "codemirror_mode": {
    "name": "ipython",
    "version": 3
   },
   "file_extension": ".py",
   "mimetype": "text/x-python",
   "name": "python",
   "nbconvert_exporter": "python",
   "pygments_lexer": "ipython3",
   "version": "3.13.2"
  }
 },
 "nbformat": 4,
 "nbformat_minor": 5
}
